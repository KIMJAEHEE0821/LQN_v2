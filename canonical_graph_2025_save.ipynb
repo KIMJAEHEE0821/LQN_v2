{
 "cells": [
  {
   "cell_type": "code",
   "execution_count": 14,
   "metadata": {},
   "outputs": [],
   "source": [
    "import networkx as nx\n",
    "import matplotlib.pyplot as plt\n",
    "import random\n",
    "from LQN_utils_state_save_parallel import *\n",
    "import itertools\n",
    "from copy import deepcopy\n",
    "import sympy as sp\n",
    "from itertools import groupby"
   ]
  },
  {
   "cell_type": "code",
   "execution_count": 15,
   "metadata": {},
   "outputs": [],
   "source": [
    "import networkx as nx\n",
    "import pynauty as nauty\n",
    "import hashlib\n",
    "import itertools\n",
    "\n",
    "# NetworkX 그래프 -> pynauty 그래프로 변환\n",
    "def to_nauty_graph(nx_graph):\n",
    "    nx_graph = nx.convert_node_labels_to_integers(nx_graph)  # 정수형 노드로 변환\n",
    "    n = nx_graph.number_of_nodes()\n",
    "    g = nauty.Graph(number_of_vertices=n, directed=False)\n",
    "    for u, v in nx_graph.edges():\n",
    "        g.connect_vertex(u, v)\n",
    "    return g\n",
    "\n",
    "# Canonical Form 해시 생성\n",
    "def canonical_hash(nx_graph):\n",
    "    try:\n",
    "        g = to_nauty_graph(nx_graph)\n",
    "        cert = nauty.certificate(g)  # Canonical Form 생성\n",
    "        return hashlib.md5(cert).hexdigest()  # 해시값 반환\n",
    "    except Exception as e:\n",
    "        print(f\"Error in canonical_hash: {e}\")\n",
    "        return None"
   ]
  },
  {
   "cell_type": "code",
   "execution_count": 16,
   "metadata": {},
   "outputs": [],
   "source": [
    "# EPM Bipartite Graph Generator\n",
    "def EPM_bipartite_graph_generator(num_system, num_ancilla, type): \n",
    "    results = []  # 결과를 저장할 리스트\n",
    "    canonical_forms_seen = set()  # 중복된 Canonical Form을 저장하기 위한 set\n",
    "    num_total = num_system + num_ancilla\n",
    "\n",
    "    # Red-Blue 조합 생성\n",
    "    if type == 0:\n",
    "        red_blue_combinations, num_combi = list_all_combinations_with_duplication(num_system, num_ancilla)\n",
    "\n",
    "    # Ancilla 조합 생성\n",
    "    ancilla_combinations_pre = generate_combinations(num_total)\n",
    "    ancilla_combinations = list(itertools.product(ancilla_combinations_pre, repeat=num_ancilla))\n",
    "\n",
    "    # Red-Blue와 Ancilla 조합을 기반으로 그래프 생성\n",
    "    for rb_comb in red_blue_combinations:\n",
    "        if num_ancilla != 0:\n",
    "            for bl_comb in ancilla_combinations:\n",
    "                B = nx.Graph()\n",
    "                B.add_nodes_from(range(2 * num_total))\n",
    "                mapping = {}\n",
    "\n",
    "                # Red-Blue 조합 추가\n",
    "                for rb_index, vt in enumerate(rb_comb):\n",
    "                    red = num_total + vt[0]\n",
    "                    blue = num_total + vt[1]\n",
    "\n",
    "                    B.add_edge(rb_index, red, weight=1.0)\n",
    "                    B.add_edge(rb_index, blue, weight=2.0)\n",
    "\n",
    "                    mapping[rb_index] = 'S_' + str(rb_index)\n",
    "                    mapping[num_total + rb_index] = rb_index\n",
    "\n",
    "                # Ancilla 조합 추가\n",
    "                for anc_index, vt_list in enumerate(bl_comb):\n",
    "                    for vt_inx in vt_list:\n",
    "                        B.add_edge(num_system + anc_index, num_total + vt_inx, weight=3)\n",
    "\n",
    "                    mapping[num_system + anc_index] = 'A_' + str(anc_index)\n",
    "                    mapping[num_total + num_system + anc_index] = num_system + anc_index\n",
    "\n",
    "                # 노드 속성 설정\n",
    "                for node_index in range(2 * num_total):\n",
    "                    if node_index < num_system:\n",
    "                        B.nodes[node_index]['category'] = 'system_nodes'\n",
    "                        B.nodes[node_index]['bipartite'] = 0\n",
    "                    elif node_index < num_total:\n",
    "                        B.nodes[node_index]['category'] = 'ancilla_nodes'\n",
    "                        B.nodes[node_index]['bipartite'] = 0\n",
    "                    else:\n",
    "                        B.nodes[node_index]['category'] = 'sculpting_nodes'\n",
    "                        B.nodes[node_index]['bipartite'] = 1\n",
    "\n",
    "                B = nx.relabel_nodes(B, mapping)\n",
    "\n",
    "                # 이웃 수 조건 확인\n",
    "                if all(len(list(B.neighbors(node))) >= 2 for node in B.nodes):\n",
    "                    canonical_form = canonical_hash(B)\n",
    "\n",
    "                    # 중복 확인\n",
    "                    if canonical_form and canonical_form not in canonical_forms_seen:\n",
    "                        canonical_forms_seen.add(canonical_form)\n",
    "                        results.append((B, canonical_form))\n",
    "\n",
    "        else:\n",
    "            B = nx.Graph()\n",
    "            B.add_nodes_from(range(2 * num_total))\n",
    "            mapping = {}\n",
    "\n",
    "            # Red-Blue 조합 추가\n",
    "            for rb_index, vt in enumerate(rb_comb):\n",
    "                red = num_total + vt[0]\n",
    "                blue = num_total + vt[1]\n",
    "\n",
    "                B.add_edge(rb_index, red, weight=1.0)\n",
    "                B.add_edge(rb_index, blue, weight=2.0)\n",
    "\n",
    "                mapping[rb_index] = 'S_' + str(rb_index)\n",
    "                mapping[num_total + rb_index] = rb_index\n",
    "\n",
    "            # 노드 속성 설정\n",
    "            for node_index in range(2 * num_total):\n",
    "                if node_index < num_system:\n",
    "                    B.nodes[node_index]['category'] = 'system_nodes'\n",
    "                    B.nodes[node_index]['bipartite'] = 0\n",
    "                elif node_index < num_total:\n",
    "                    B.nodes[node_index]['category'] = 'ancilla_nodes'\n",
    "                    B.nodes[node_index]['bipartite'] = 0\n",
    "                else:\n",
    "                    B.nodes[node_index]['category'] = 'sculpting_nodes'\n",
    "                    B.nodes[node_index]['bipartite'] = 1\n",
    "\n",
    "            B = nx.relabel_nodes(B, mapping)\n",
    "\n",
    "            # 이웃 수 조건 확인\n",
    "            if all(len(list(B.neighbors(node))) >= 2 for node in B.nodes):\n",
    "                canonical_form = canonical_hash(B)\n",
    "\n",
    "                # 중복 확인\n",
    "                if canonical_form and canonical_form not in canonical_forms_seen:\n",
    "                    canonical_forms_seen.add(canonical_form)\n",
    "                    results.append((B, canonical_form))\n",
    "\n",
    "    return results  # 최종 결과 반환\n"
   ]
  },
  {
   "cell_type": "code",
   "execution_count": 17,
   "metadata": {},
   "outputs": [],
   "source": [
    "bi_result_3_1 = EPM_bipartite_graph_generator(3, 1, 0)"
   ]
  },
  {
   "cell_type": "code",
   "execution_count": 6,
   "metadata": {},
   "outputs": [
    {
     "data": {
      "text/plain": [
       "8"
      ]
     },
     "execution_count": 6,
     "metadata": {},
     "output_type": "execute_result"
    }
   ],
   "source": [
    "len(bi_result_3_1)"
   ]
  },
  {
   "cell_type": "code",
   "execution_count": 7,
   "metadata": {},
   "outputs": [
    {
     "data": {
      "text/plain": [
       "(<networkx.classes.graph.Graph at 0x7f37e37d9120>,\n",
       " '87e07f47d39141dcd1b8141fcbed9e41')"
      ]
     },
     "execution_count": 7,
     "metadata": {},
     "output_type": "execute_result"
    }
   ],
   "source": [
    "bi_result_3_1[0]"
   ]
  },
  {
   "cell_type": "code",
   "execution_count": 8,
   "metadata": {},
   "outputs": [
    {
     "data": {
      "text/plain": [
       "<networkx.classes.graph.Graph at 0x7f37e37d9120>"
      ]
     },
     "execution_count": 8,
     "metadata": {},
     "output_type": "execute_result"
    }
   ],
   "source": [
    "bi_result_3_1[0][0]"
   ]
  },
  {
   "cell_type": "code",
   "execution_count": 9,
   "metadata": {},
   "outputs": [
    {
     "data": {
      "text/plain": [
       "'87e07f47d39141dcd1b8141fcbed9e41'"
      ]
     },
     "execution_count": 9,
     "metadata": {},
     "output_type": "execute_result"
    }
   ],
   "source": [
    "bi_result_3_1[0][1]"
   ]
  },
  {
   "cell_type": "code",
   "execution_count": 10,
   "metadata": {},
   "outputs": [
    {
     "data": {
      "text/plain": [
       "'c6de2a6d3c934078d5e619060f2122d6'"
      ]
     },
     "execution_count": 10,
     "metadata": {},
     "output_type": "execute_result"
    }
   ],
   "source": [
    "bi_result_3_1[1][1]"
   ]
  },
  {
   "cell_type": "code",
   "execution_count": 11,
   "metadata": {},
   "outputs": [
    {
     "data": {
      "image/png": "[encoded data removed]",
      "text/plain": [
       "<Figure size 600x600 with 1 Axes>"
      ]
     },
     "metadata": {},
     "output_type": "display_data"
    }
   ],
   "source": [
    "Draw_EPM_bipartite_graph(bi_result_3_1[7][0])"
   ]
  },
  {
   "cell_type": "code",
   "execution_count": 12,
   "metadata": {},
   "outputs": [
    {
     "data": {
      "image/png": "[encoded data removed]",
      "text/plain": [
       "<Figure size 600x600 with 1 Axes>"
      ]
     },
     "metadata": {},
     "output_type": "display_data"
    }
   ],
   "source": [
    "Draw_EPM_bipartite_graph(bi_result_3_1[4][0])"
   ]
  },
  {
   "cell_type": "code",
   "execution_count": 13,
   "metadata": {},
   "outputs": [
    {
     "name": "stdout",
     "output_type": "stream",
     "text": [
      "Hash1: 3d2911e526d9d9fde3fdddd1a612f9e2\n",
      "Hash2: 3d2911e526d9d9fde3fdddd1a612f9e2\n",
      "Are the graphs isomorphic? True\n"
     ]
    }
   ],
   "source": [
    "import networkx as nx\n",
    "\n",
    "# 두 개의 동형 그래프 생성\n",
    "graph1 = nx.complete_bipartite_graph(3, 2)\n",
    "graph2 = nx.complete_bipartite_graph(2, 3)\n",
    "\n",
    "# Canonical Hash 계산\n",
    "hash1 = canonical_hash(graph1)\n",
    "hash2 = canonical_hash(graph2)\n",
    "\n",
    "print(f\"Hash1: {hash1}\")\n",
    "print(f\"Hash2: {hash2}\")\n",
    "print(f\"Are the graphs isomorphic? {hash1 == hash2}\")\n"
   ]
  },
  {
   "cell_type": "code",
   "execution_count": 14,
   "metadata": {},
   "outputs": [
    {
     "name": "stdout",
     "output_type": "stream",
     "text": [
      "Hash1: 3d2911e526d9d9fde3fdddd1a612f9e2\n",
      "Hash3: ac8adb5e4123cb838227a9c27e38ab07\n",
      "Are the graphs isomorphic? False\n"
     ]
    }
   ],
   "source": [
    "# 비동형 그래프 생성\n",
    "graph3 = nx.cycle_graph(5)\n",
    "\n",
    "# Canonical Hash 계산\n",
    "hash3 = canonical_hash(graph3)\n",
    "\n",
    "print(f\"Hash1: {hash1}\")\n",
    "print(f\"Hash3: {hash3}\")\n",
    "print(f\"Are the graphs isomorphic? {hash1 == hash3}\")"
   ]
  },
  {
   "cell_type": "code",
   "execution_count": 15,
   "metadata": {},
   "outputs": [],
   "source": [
    "def EPM_bipartite_graph_generator_old(num_system, num_ancilla, type): \n",
    "    results = []  # 결과를 저장할 리스트\n",
    "    num_total = num_system + num_ancilla\n",
    "\n",
    "    if type == 0:\n",
    "        red_blue_combinations, num_combi = list_all_combinations_with_duplication(num_system, num_ancilla)\n",
    "\n",
    "    ancilla_combinations_pre = generate_combinations(num_total)\n",
    "    ancilla_combinations = list(itertools.product(ancilla_combinations_pre, repeat=num_ancilla))\n",
    "\n",
    "    for rb_comb in red_blue_combinations:\n",
    "        if num_ancilla != 0:\n",
    "            for bl_comb in ancilla_combinations:\n",
    "                B = nx.Graph()\n",
    "                B.add_nodes_from(range(2 * num_total))\n",
    "                mapping = {}\n",
    "\n",
    "                for rb_index, vt in enumerate(rb_comb):\n",
    "                    red = num_total + vt[0]\n",
    "                    blue = num_total + vt[1]\n",
    "\n",
    "                    B.add_edge(rb_index, red, weight= 1.0)\n",
    "                    B.add_edge(rb_index, blue, weight= 2.0)\n",
    "\n",
    "                    mapping[rb_index] = 'S_' + str(rb_index)  # mapping은 그래프 index임(bigraph에서 왼쪽)\n",
    "                    mapping[num_total + rb_index] = rb_index  # bigraph에서 오른쪽 vertex\n",
    "\n",
    "\n",
    "                for anc_index, vt_list in enumerate(bl_comb):\n",
    "                    for vt_inx in vt_list:\n",
    "                        B.add_edge(num_system + anc_index, num_total + vt_inx, weight=3) \n",
    "\n",
    "                    mapping[num_system + anc_index] = 'A_' + str(anc_index)\n",
    "                    mapping[num_total + num_system + anc_index] = num_system + anc_index\n",
    "\n",
    "                for node_index in range(2 * num_total):\n",
    "                    if node_index < num_system:\n",
    "                        B.nodes[node_index]['category'] = 'system_nodes'\n",
    "                        B.nodes[node_index]['bipartite'] = 0\n",
    "                    elif node_index < num_total:\n",
    "                        B.nodes[node_index]['category'] = 'ancilla_nodes'\n",
    "                        B.nodes[node_index]['bipartite'] = 0\n",
    "                    else:\n",
    "                        B.nodes[node_index]['category'] = 'sculpting_nodes'\n",
    "                        B.nodes[node_index]['bipartite'] = 1\n",
    "\n",
    "                B = nx.relabel_nodes(B, mapping)  # B의 index를 mapping에서 우리가 만든 형태로 다 바꿈.\n",
    "\n",
    "                if all(len(list(B.neighbors(node))) >= 2 for node in B.nodes):\n",
    "                    results.append((B))\n",
    "        else:\n",
    "            B = nx.Graph()\n",
    "            B.add_nodes_from(range(2 * num_total))\n",
    "            mapping = {}\n",
    "\n",
    "            for rb_index, vt in enumerate(rb_comb):\n",
    "                red = num_total + vt[0]\n",
    "                blue = num_total + vt[1]\n",
    "\n",
    "                B.add_edge(rb_index, red, weight=1.)\n",
    "                B.add_edge(rb_index, blue, weight= 2.)\n",
    "\n",
    "                mapping[rb_index] = 'S_' + str(rb_index)\n",
    "                mapping[num_total + rb_index] = rb_index\n",
    "\n",
    "            for node_index in range(2 * num_total):\n",
    "                if node_index < num_system:\n",
    "                    B.nodes[node_index]['category'] = 'system_nodes'\n",
    "                    B.nodes[node_index]['bipartite'] = 0\n",
    "                elif node_index < num_total:\n",
    "                    B.nodes[node_index]['category'] = 'ancilla_nodes'\n",
    "                    B.nodes[node_index]['bipartite'] = 0\n",
    "                else:\n",
    "                    B.nodes[node_index]['category'] = 'sculpting_nodes'\n",
    "                    B.nodes[node_index]['bipartite'] = 1\n",
    "\n",
    "            B = nx.relabel_nodes(B, mapping)\n",
    "\n",
    "            if all(len(list(B.neighbors(node))) >= 2 for node in B.nodes):\n",
    "                results.append((B))\n",
    "\n",
    "    return results  # 최종 결과 반환"
   ]
  },
  {
   "cell_type": "code",
   "execution_count": 16,
   "metadata": {},
   "outputs": [],
   "source": [
    "bi_result_old_3_1 = EPM_bipartite_graph_generator_old(3, 1, 0)"
   ]
  },
  {
   "cell_type": "code",
   "execution_count": 17,
   "metadata": {},
   "outputs": [
    {
     "data": {
      "text/plain": [
       "<networkx.classes.graph.Graph at 0x7f37e11a4e50>"
      ]
     },
     "execution_count": 17,
     "metadata": {},
     "output_type": "execute_result"
    }
   ],
   "source": [
    "bi_result_old_3_1[0]"
   ]
  },
  {
   "cell_type": "code",
   "execution_count": 18,
   "metadata": {},
   "outputs": [
    {
     "data": {
      "text/plain": [
       "3264"
      ]
     },
     "execution_count": 18,
     "metadata": {},
     "output_type": "execute_result"
    }
   ],
   "source": [
    "len(bi_result_old_3_1)"
   ]
  },
  {
   "cell_type": "code",
   "execution_count": 19,
   "metadata": {},
   "outputs": [
    {
     "data": {
      "text/plain": [
       "'87e07f47d39141dcd1b8141fcbed9e41'"
      ]
     },
     "execution_count": 19,
     "metadata": {},
     "output_type": "execute_result"
    }
   ],
   "source": [
    "canonical_hash(bi_result_old_3_1[0])"
   ]
  },
  {
   "cell_type": "code",
   "execution_count": 20,
   "metadata": {},
   "outputs": [
    {
     "data": {
      "image/png": "[encoded data removed]",
      "text/plain": [
       "<Figure size 600x600 with 1 Axes>"
      ]
     },
     "metadata": {},
     "output_type": "display_data"
    }
   ],
   "source": [
    "Draw_EPM_bipartite_graph(bi_result_old_3_1[0])"
   ]
  },
  {
   "cell_type": "code",
   "execution_count": 21,
   "metadata": {},
   "outputs": [
    {
     "data": {
      "text/plain": [
       "'87e07f47d39141dcd1b8141fcbed9e41'"
      ]
     },
     "execution_count": 21,
     "metadata": {},
     "output_type": "execute_result"
    }
   ],
   "source": [
    "canonical_hash(bi_result_old_3_1[4])"
   ]
  },
  {
   "cell_type": "code",
   "execution_count": 22,
   "metadata": {},
   "outputs": [
    {
     "data": {
      "image/png": "[encoded data removed]",
      "text/plain": [
       "<Figure size 600x600 with 1 Axes>"
      ]
     },
     "metadata": {},
     "output_type": "display_data"
    }
   ],
   "source": [
    "Draw_EPM_bipartite_graph(bi_result_old_3_1[4])"
   ]
  },
  {
   "cell_type": "code",
   "execution_count": 23,
   "metadata": {},
   "outputs": [],
   "source": [
    "import networkx as nx\n",
    "import pynauty as nauty\n",
    "import hashlib\n",
    "import itertools\n",
    "from collections import defaultdict\n",
    "\n",
    "# NetworkX 그래프 -> pynauty 그래프로 변환\n",
    "def to_nauty_graph(nx_graph):\n",
    "    nx_graph = nx.convert_node_labels_to_integers(nx_graph)  # 정수형 노드로 변환\n",
    "    n = nx_graph.number_of_nodes()\n",
    "    g = nauty.Graph(number_of_vertices=n, directed=False)\n",
    "    for u, v in nx_graph.edges():\n",
    "        g.connect_vertex(u, v)\n",
    "    return g\n",
    "\n",
    "# Canonical Form 해시 생성\n",
    "def canonical_hash(nx_graph):\n",
    "    try:\n",
    "        g = to_nauty_graph(nx_graph)\n",
    "        cert = nauty.certificate(g)  # Canonical Form 생성\n",
    "        return hashlib.md5(cert).hexdigest()  # 해시값 반환\n",
    "    except Exception as e:\n",
    "        print(f\"Error in canonical_hash: {e}\")\n",
    "        return None\n",
    "\n",
    "# EPM Bipartite Graph Generator\n",
    "def EPM_bipartite_graph_generator_test(num_system, num_ancilla, type): \n",
    "    results = defaultdict(list)  # Canonical Hash별로 그래프를 그룹화\n",
    "    num_total = num_system + num_ancilla\n",
    "\n",
    "    # Red-Blue 조합 생성\n",
    "    if type == 0:\n",
    "        red_blue_combinations, num_combi = list_all_combinations_with_duplication(num_system, num_ancilla)\n",
    "\n",
    "    # Ancilla 조합 생성\n",
    "    ancilla_combinations_pre = generate_combinations(num_total)\n",
    "    ancilla_combinations = list(itertools.product(ancilla_combinations_pre, repeat=num_ancilla))\n",
    "\n",
    "    # Red-Blue와 Ancilla 조합을 기반으로 그래프 생성\n",
    "    for rb_comb in red_blue_combinations:\n",
    "        if num_ancilla != 0:\n",
    "            for bl_comb in ancilla_combinations:\n",
    "                B = nx.Graph()\n",
    "                B.add_nodes_from(range(2 * num_total))\n",
    "                mapping = {}\n",
    "\n",
    "                # Red-Blue 조합 추가\n",
    "                for rb_index, vt in enumerate(rb_comb):\n",
    "                    red = num_total + vt[0]\n",
    "                    blue = num_total + vt[1]\n",
    "\n",
    "                    B.add_edge(rb_index, red, weight=1.0)\n",
    "                    B.add_edge(rb_index, blue, weight=2.0)\n",
    "\n",
    "                    mapping[rb_index] = 'S_' + str(rb_index)\n",
    "                    mapping[num_total + rb_index] = rb_index\n",
    "\n",
    "                # Ancilla 조합 추가\n",
    "                for anc_index, vt_list in enumerate(bl_comb):\n",
    "                    for vt_inx in vt_list:\n",
    "                        B.add_edge(num_system + anc_index, num_total + vt_inx, weight=3)\n",
    "\n",
    "                    mapping[num_system + anc_index] = 'A_' + str(anc_index)\n",
    "                    mapping[num_total + num_system + anc_index] = num_system + anc_index\n",
    "\n",
    "                # 노드 속성 설정\n",
    "                for node_index in range(2 * num_total):\n",
    "                    if node_index < num_system:\n",
    "                        B.nodes[node_index]['category'] = 'system_nodes'\n",
    "                        B.nodes[node_index]['bipartite'] = 0\n",
    "                    elif node_index < num_total:\n",
    "                        B.nodes[node_index]['category'] = 'ancilla_nodes'\n",
    "                        B.nodes[node_index]['bipartite'] = 0\n",
    "                    else:\n",
    "                        B.nodes[node_index]['category'] = 'sculpting_nodes'\n",
    "                        B.nodes[node_index]['bipartite'] = 1\n",
    "\n",
    "                B = nx.relabel_nodes(B, mapping)\n",
    "\n",
    "                # 이웃 수 조건 확인\n",
    "                if all(len(list(B.neighbors(node))) >= 2 for node in B.nodes):\n",
    "                    canonical_form = canonical_hash(B)\n",
    "\n",
    "                    # 그룹화\n",
    "                    if canonical_form:\n",
    "                        results[canonical_form].append(B)\n",
    "\n",
    "        else:\n",
    "            B = nx.Graph()\n",
    "            B.add_nodes_from(range(2 * num_total))\n",
    "            mapping = {}\n",
    "\n",
    "            # Red-Blue 조합 추가\n",
    "            for rb_index, vt in enumerate(rb_comb):\n",
    "                red = num_total + vt[0]\n",
    "                blue = num_total + vt[1]\n",
    "\n",
    "                B.add_edge(rb_index, red, weight=1.0)\n",
    "                B.add_edge(rb_index, blue, weight=2.0)\n",
    "\n",
    "                mapping[rb_index] = 'S_' + str(rb_index)\n",
    "                mapping[num_total + rb_index] = rb_index\n",
    "\n",
    "            # 노드 속성 설정\n",
    "            for node_index in range(2 * num_total):\n",
    "                if node_index < num_system:\n",
    "                    B.nodes[node_index]['category'] = 'system_nodes'\n",
    "                    B.nodes[node_index]['bipartite'] = 0\n",
    "                elif node_index < num_total:\n",
    "                    B.nodes[node_index]['category'] = 'ancilla_nodes'\n",
    "                    B.nodes[node_index]['bipartite'] = 0\n",
    "                else:\n",
    "                    B.nodes[node_index]['category'] = 'sculpting_nodes'\n",
    "                    B.nodes[node_index]['bipartite'] = 1\n",
    "\n",
    "            B = nx.relabel_nodes(B, mapping)\n",
    "\n",
    "            # 이웃 수 조건 확인\n",
    "            if all(len(list(B.neighbors(node))) >= 2 for node in B.nodes):\n",
    "                canonical_form = canonical_hash(B)\n",
    "\n",
    "                # 그룹화\n",
    "                if canonical_form:\n",
    "                    results[canonical_form].append(B)\n",
    "\n",
    "    return results  # Canonical Hash별로 그룹화된 결과 반환\n"
   ]
  },
  {
   "cell_type": "code",
   "execution_count": 24,
   "metadata": {},
   "outputs": [],
   "source": [
    "bi_result_test_3_1 = EPM_bipartite_graph_generator_test(3, 1, 0)"
   ]
  },
  {
   "cell_type": "code",
   "execution_count": 48,
   "metadata": {},
   "outputs": [
    {
     "data": {
      "text/plain": [
       "8"
      ]
     },
     "execution_count": 48,
     "metadata": {},
     "output_type": "execute_result"
    }
   ],
   "source": [
    "len(bi_result_test_3_1)"
   ]
  },
  {
   "cell_type": "code",
   "execution_count": 25,
   "metadata": {},
   "outputs": [
    {
     "data": {
      "text/plain": [
       "'87e07f47d39141dcd1b8141fcbed9e41'"
      ]
     },
     "execution_count": 25,
     "metadata": {},
     "output_type": "execute_result"
    }
   ],
   "source": [
    "list(bi_result_test_3_1.keys())[0]"
   ]
  },
  {
   "cell_type": "code",
   "execution_count": 26,
   "metadata": {},
   "outputs": [
    {
     "data": {
      "text/plain": [
       "<networkx.classes.graph.Graph at 0x7f37dfc6c1c0>"
      ]
     },
     "execution_count": 26,
     "metadata": {},
     "output_type": "execute_result"
    }
   ],
   "source": [
    "bi_result_test_3_1[list(bi_result_test_3_1.keys())[0]][0]"
   ]
  },
  {
   "cell_type": "code",
   "execution_count": 27,
   "metadata": {},
   "outputs": [
    {
     "data": {
      "image/png": "[encoded data removed]",
      "text/plain": [
       "<Figure size 600x600 with 1 Axes>"
      ]
     },
     "metadata": {},
     "output_type": "display_data"
    }
   ],
   "source": [
    "Draw_EPM_bipartite_graph(bi_result_test_3_1[list(bi_result_test_3_1.keys())[0]][0])"
   ]
  },
  {
   "cell_type": "code",
   "execution_count": 28,
   "metadata": {},
   "outputs": [
    {
     "data": {
      "image/png": "[encoded data removed]",
      "text/plain": [
       "<Figure size 600x600 with 1 Axes>"
      ]
     },
     "metadata": {},
     "output_type": "display_data"
    }
   ],
   "source": [
    "Draw_EPM_bipartite_graph(bi_result_test_3_1[list(bi_result_test_3_1.keys())[0]][2])"
   ]
  },
  {
   "cell_type": "code",
   "execution_count": 29,
   "metadata": {},
   "outputs": [
    {
     "data": {
      "text/plain": [
       "<networkx.classes.graph.Graph at 0x7f37dfc6c1c0>"
      ]
     },
     "execution_count": 29,
     "metadata": {},
     "output_type": "execute_result"
    }
   ],
   "source": [
    "bi_result_test_3_1[list(bi_result_test_3_1.keys())[0]][0]"
   ]
  },
  {
   "cell_type": "code",
   "execution_count": null,
   "metadata": {},
   "outputs": [],
   "source": [
    "def EPM_bipartite_graph_generator_old(num_system, num_ancilla, type): \n",
    "    results = []  # 결과를 저장할 리스트\n",
    "    num_total = num_system + num_ancilla\n",
    "\n",
    "    if type == 0:\n",
    "        red_blue_combinations, num_combi = list_all_combinations_with_duplication(num_system, num_ancilla)\n",
    "\n",
    "    ancilla_combinations_pre = generate_combinations(num_total)\n",
    "    ancilla_combinations = list(itertools.product(ancilla_combinations_pre, repeat=num_ancilla))\n",
    "\n",
    "    for rb_comb in red_blue_combinations:\n",
    "        if num_ancilla != 0:\n",
    "            for bl_comb in ancilla_combinations:\n",
    "                B = nx.Graph()\n",
    "                B.add_nodes_from(range(2 * num_total))\n",
    "                mapping = {}\n",
    "\n",
    "                for rb_index, vt in enumerate(rb_comb):\n",
    "                    red = num_total + vt[0]\n",
    "                    blue = num_total + vt[1]\n",
    "\n",
    "                    B.add_edge(rb_index, red, weight= 1.0)\n",
    "                    B.add_edge(rb_index, blue, weight= 2.0)\n",
    "\n",
    "                    mapping[rb_index] = 'S_' + str(rb_index)  # mapping은 그래프 index임(bigraph에서 왼쪽)\n",
    "                    mapping[num_total + rb_index] = rb_index  # bigraph에서 오른쪽 vertex\n",
    "\n",
    "\n",
    "                for anc_index, vt_list in enumerate(bl_comb):\n",
    "                    for vt_inx in vt_list:\n",
    "                        B.add_edge(num_system + anc_index, num_total + vt_inx, weight=3) \n",
    "\n",
    "                    mapping[num_system + anc_index] = 'A_' + str(anc_index)\n",
    "                    mapping[num_total + num_system + anc_index] = num_system + anc_index\n",
    "\n",
    "                for node_index in range(2 * num_total):\n",
    "                    if node_index < num_system:\n",
    "                        B.nodes[node_index]['category'] = 'system_nodes'\n",
    "                        B.nodes[node_index]['bipartite'] = 0\n",
    "                    elif node_index < num_total:\n",
    "                        B.nodes[node_index]['category'] = 'ancilla_nodes'\n",
    "                        B.nodes[node_index]['bipartite'] = 0\n",
    "                    else:\n",
    "                        B.nodes[node_index]['category'] = 'sculpting_nodes'\n",
    "                        B.nodes[node_index]['bipartite'] = 1\n",
    "\n",
    "                B = nx.relabel_nodes(B, mapping)  # B의 index를 mapping에서 우리가 만든 형태로 다 바꿈.\n",
    "\n",
    "                if all(len(list(B.neighbors(node))) >= 2 for node in B.nodes):\n",
    "                    results.append((B))\n",
    "        else:\n",
    "            B = nx.Graph()\n",
    "            B.add_nodes_from(range(2 * num_total))\n",
    "            mapping = {}\n",
    "\n",
    "            for rb_index, vt in enumerate(rb_comb):\n",
    "                red = num_total + vt[0]\n",
    "                blue = num_total + vt[1]\n",
    "\n",
    "                B.add_edge(rb_index, red, weight=1.)\n",
    "                B.add_edge(rb_index, blue, weight= 2.)\n",
    "\n",
    "                mapping[rb_index] = 'S_' + str(rb_index)\n",
    "                mapping[num_total + rb_index] = rb_index\n",
    "\n",
    "            for node_index in range(2 * num_total):\n",
    "                if node_index < num_system:\n",
    "                    B.nodes[node_index]['category'] = 'system_nodes'\n",
    "                    B.nodes[node_index]['bipartite'] = 0\n",
    "                elif node_index < num_total:\n",
    "                    B.nodes[node_index]['category'] = 'ancilla_nodes'\n",
    "                    B.nodes[node_index]['bipartite'] = 0\n",
    "                else:\n",
    "                    B.nodes[node_index]['category'] = 'sculpting_nodes'\n",
    "                    B.nodes[node_index]['bipartite'] = 1\n",
    "\n",
    "            B = nx.relabel_nodes(B, mapping)\n",
    "\n",
    "            if all(len(list(B.neighbors(node))) >= 2 for node in B.nodes):\n",
    "                results.append((B))\n",
    "\n",
    "    return results  # 최종 결과 반환"
   ]
  },
  {
   "cell_type": "code",
   "execution_count": 38,
   "metadata": {},
   "outputs": [
    {
     "name": "stdout",
     "output_type": "stream",
     "text": [
      "Graph 1 and Graph 2 are isomorphic.\n",
      "Graph 1 and Graph 3 are NOT isomorphic.\n",
      "Graph 2 and Graph 3 are NOT isomorphic.\n"
     ]
    }
   ],
   "source": [
    "import igraph as ig\n",
    "\n",
    "# NetworkX -> igraph 변환\n",
    "def to_igraph(nx_graph):\n",
    "    edges = list(nx_graph.edges)\n",
    "    g = ig.Graph(edges=edges, directed=False)\n",
    "    return g\n",
    "\n",
    "# Canonical form 비교\n",
    "def canonical_form(graph):\n",
    "    return graph.canonical_permutation()\n",
    "\n",
    "# Example bipartite graph list\n",
    "bigraphs = [\n",
    "    nx.Graph([(0, 3), (1, 3), (2, 4)]),\n",
    "    nx.Graph([(0, 3), (1, 3), (2, 4)]),\n",
    "    nx.Graph([(0, 4), (1, 4), (2, 5)])\n",
    "]\n",
    "\n",
    "# Canonical form 계산\n",
    "canonical_forms = []\n",
    "for i, graph in enumerate(bigraphs):\n",
    "    igraph = to_igraph(graph)\n",
    "    canonical_forms.append(canonical_form(igraph))\n",
    "\n",
    "# 결과 비교\n",
    "for i in range(len(canonical_forms)):\n",
    "    for j in range(i + 1, len(canonical_forms)):\n",
    "        if canonical_forms[i] == canonical_forms[j]:\n",
    "            print(f\"Graph {i+1} and Graph {j+1} are isomorphic.\")\n",
    "        else:\n",
    "            print(f\"Graph {i+1} and Graph {j+1} are NOT isomorphic.\")\n",
    "\n"
   ]
  },
  {
   "cell_type": "code",
   "execution_count": 39,
   "metadata": {},
   "outputs": [
    {
     "data": {
      "text/plain": [
       "[[3, 2, 1, 4, 0], [3, 2, 1, 4, 0], [4, 3, 2, 0, 5, 1]]"
      ]
     },
     "execution_count": 39,
     "metadata": {},
     "output_type": "execute_result"
    }
   ],
   "source": [
    "canonical_forms"
   ]
  },
  {
   "cell_type": "code",
   "execution_count": 40,
   "metadata": {},
   "outputs": [
    {
     "name": "stdout",
     "output_type": "stream",
     "text": [
      "True\n",
      "False\n"
     ]
    }
   ],
   "source": [
    "import igraph as ig\n",
    "\n",
    "# Canonical Form 생성 함수\n",
    "def canonical_form_with_weights(graph, weights):\n",
    "    # 노드 가중치를 색상(label)으로 추가\n",
    "    graph.vs['weight'] = weights  # 노드 속성 설정\n",
    "    # 색상(label)을 고려한 canonical permutation 계산\n",
    "    perm = graph.canonical_permutation(color=graph.vs['weight'])\n",
    "    # Permutation 적용하여 정렬된 adjacency matrix 반환\n",
    "    permuted = graph.permute_vertices(perm)\n",
    "    return permuted.get_adjacency().data\n",
    "\n",
    "# Canonical form with weights\n",
    "def canonical_form_with_weights(ig_graph):\n",
    "    # 가중치를 색상(label)으로 설정\n",
    "    ig_graph.vs['color'] = [v['weight'] for v in ig_graph.es]\n",
    "    # Canonical permutation 생성\n",
    "    perm = ig_graph.canonical_permutation(color=ig_graph.vs['color'])\n",
    "    # Permutation 적용\n",
    "    permuted = ig_graph.permute_vertices(perm)\n",
    "    return permuted.get_adjacency().data\n",
    "\n",
    "\n",
    "# 그래프 정의 및 가중치 설정\n",
    "g1 = ig.Graph([(0, 1), (1, 2)])\n",
    "g2 = ig.Graph([(0, 1), (1, 2)])\n",
    "g3 = ig.Graph([(0, 1), (1, 2)])\n",
    "\n",
    "weights1 = [2, 3, 4]  # Graph 1 가중치\n",
    "weights2 = [2, 3, 4]  # Graph 2 가중치 (동형)\n",
    "weights3 = [2, 4, 3]  # Graph 3 가중치 (비동형)\n",
    "\n",
    "# Canonical form 계산\n",
    "matrix1 = canonical_form_with_weights(g1, weights1)\n",
    "matrix2 = canonical_form_with_weights(g2, weights2)\n",
    "matrix3 = canonical_form_with_weights(g3, weights3)\n",
    "\n",
    "# Canonical form 비교\n",
    "print(matrix1 == matrix2)  # True (동형)\n",
    "print(matrix1 == matrix3)  # False (비동형)\n"
   ]
  },
  {
   "cell_type": "code",
   "execution_count": 41,
   "metadata": {},
   "outputs": [
    {
     "data": {
      "text/plain": [
       "[[0, 1, 0], [1, 0, 1], [0, 1, 0]]"
      ]
     },
     "execution_count": 41,
     "metadata": {},
     "output_type": "execute_result"
    }
   ],
   "source": [
    "matrix1"
   ]
  },
  {
   "cell_type": "code",
   "execution_count": 46,
   "metadata": {},
   "outputs": [
    {
     "name": "stdout",
     "output_type": "stream",
     "text": [
      "IGRAPH U-W- 5 3 --\n",
      "+ attr: weight (e)\n",
      "+ edges:\n",
      "0--3 1--3 2--4\n"
     ]
    }
   ],
   "source": [
    "import networkx as nx\n",
    "import igraph as ig\n",
    "\n",
    "# 1. NetworkX에서 bipartite graph 생성\n",
    "G = nx.Graph()\n",
    "G.add_nodes_from([0, 1, 2], bipartite=0)  # 그룹 1\n",
    "G.add_nodes_from([3, 4], bipartite=1)    # 그룹 2\n",
    "G.add_edges_from([(0, 3, {'weight': 1}), (1, 3, {'weight': 2}), (2, 4, {'weight': 3})])\n",
    "\n",
    "# 2. NetworkX → iGraph 변환\n",
    "def nx_to_igraph(nx_graph):\n",
    "    # 노드 및 엣지 정보 추출\n",
    "    edges = list(nx_graph.edges(data=True))\n",
    "    ig_graph = ig.Graph()\n",
    "    ig_graph.add_vertices(len(nx_graph.nodes))  # 노드 추가\n",
    "    ig_graph.add_edges([(u, v) for u, v, _ in edges])  # 엣지 추가\n",
    "    \n",
    "    # 가중치 추가\n",
    "    weights = [data['weight'] for _, _, data in edges]\n",
    "    ig_graph.es['weight'] = weights\n",
    "    \n",
    "    return ig_graph\n",
    "\n",
    "# 3. 변환 테스트\n",
    "ig_graph = nx_to_igraph(G)\n",
    "print(ig_graph)  # iGraph 출력\n",
    "\n"
   ]
  },
  {
   "cell_type": "code",
   "execution_count": 47,
   "metadata": {},
   "outputs": [
    {
     "name": "stdout",
     "output_type": "stream",
     "text": [
      "[[0, 1, 0, 0, 0], [1, 0, 1, 0, 0], [0, 1, 0, 0, 0], [0, 0, 0, 0, 1], [0, 0, 0, 1, 0]]\n"
     ]
    }
   ],
   "source": [
    "# Canonical form with weights\n",
    "def canonical_form_with_weights(ig_graph):\n",
    "    # 가중치를 색상(label)으로 설정\n",
    "    ig_graph.vs['color'] = [v['weight'] for v in ig_graph.es]\n",
    "    # Canonical permutation 생성\n",
    "    perm = ig_graph.canonical_permutation(color=ig_graph.vs['color'])\n",
    "    # Permutation 적용\n",
    "    permuted = ig_graph.permute_vertices(perm)\n",
    "    return permuted.get_adjacency().data\n",
    "\n",
    "# Canonical form 계산\n",
    "canonical_matrix = canonical_form_with_weights(ig_graph)\n",
    "print(canonical_matrix)"
   ]
  },
  {
   "cell_type": "code",
   "execution_count": 54,
   "metadata": {},
   "outputs": [
    {
     "name": "stdout",
     "output_type": "stream",
     "text": [
      "Original graph count: 3264\n",
      "Unique graph count: 106\n"
     ]
    }
   ],
   "source": [
    "import networkx as nx\n",
    "import igraph as ig\n",
    "import itertools\n",
    "\n",
    "\n",
    "# EPM bipartite graph 생성 함수\n",
    "def EPM_bipartite_graph_generator_old(num_system, num_ancilla, type): \n",
    "    results = []  # 결과 저장 리스트\n",
    "    num_total = num_system + num_ancilla\n",
    "\n",
    "    # red-blue 조합 생성 (type=0 가정)\n",
    "    red_blue_combinations, num_combi = list_all_combinations_with_duplication(num_system, num_ancilla)\n",
    "\n",
    "    # ancilla 조합 생성\n",
    "    ancilla_combinations_pre = generate_combinations(num_total)\n",
    "    ancilla_combinations = list(itertools.product(ancilla_combinations_pre, repeat=num_ancilla))\n",
    "\n",
    "    for rb_comb in red_blue_combinations:\n",
    "        if num_ancilla != 0:\n",
    "            for bl_comb in ancilla_combinations:\n",
    "                B = nx.Graph()\n",
    "                B.add_nodes_from(range(2 * num_total))\n",
    "                mapping = {}\n",
    "\n",
    "                # red-blue 엣지 추가\n",
    "                for rb_index, vt in enumerate(rb_comb):\n",
    "                    red = num_total + vt[0]\n",
    "                    blue = num_total + vt[1]\n",
    "\n",
    "                    B.add_edge(rb_index, red, weight=1.0)\n",
    "                    B.add_edge(rb_index, blue, weight=2.0)\n",
    "\n",
    "                    mapping[rb_index] = 'S_' + str(rb_index)\n",
    "                    mapping[num_total + rb_index] = rb_index\n",
    "\n",
    "                # ancilla 엣지 추가\n",
    "                for anc_index, vt_list in enumerate(bl_comb):\n",
    "                    for vt_inx in vt_list:\n",
    "                        B.add_edge(num_system + anc_index, num_total + vt_inx, weight=3) \n",
    "\n",
    "                    mapping[num_system + anc_index] = 'A_' + str(anc_index)\n",
    "                    mapping[num_total + num_system + anc_index] = num_system + anc_index\n",
    "\n",
    "                # 노드 속성 추가\n",
    "                for node_index in range(2 * num_total):\n",
    "                    if node_index < num_system:\n",
    "                        B.nodes[node_index]['category'] = 'system_nodes'\n",
    "                        B.nodes[node_index]['bipartite'] = 0\n",
    "                    elif node_index < num_total:\n",
    "                        B.nodes[node_index]['category'] = 'ancilla_nodes'\n",
    "                        B.nodes[node_index]['bipartite'] = 0\n",
    "                    else:\n",
    "                        B.nodes[node_index]['category'] = 'sculpting_nodes'\n",
    "                        B.nodes[node_index]['bipartite'] = 1\n",
    "\n",
    "                B = nx.relabel_nodes(B, mapping)  # 노드 이름 변경\n",
    "\n",
    "                if all(len(list(B.neighbors(node))) >= 2 for node in B.nodes):\n",
    "                    results.append(B)\n",
    "        else:\n",
    "            B = nx.Graph()\n",
    "            B.add_nodes_from(range(2 * num_total))\n",
    "            mapping = {}\n",
    "\n",
    "            for rb_index, vt in enumerate(rb_comb):\n",
    "                red = num_total + vt[0]\n",
    "                blue = num_total + vt[1]\n",
    "\n",
    "                B.add_edge(rb_index, red, weight=1.0)\n",
    "                B.add_edge(rb_index, blue, weight=2.0)\n",
    "\n",
    "                mapping[rb_index] = 'S_' + str(rb_index)\n",
    "                mapping[num_total + rb_index] = rb_index\n",
    "\n",
    "            for node_index in range(2 * num_total):\n",
    "                if node_index < num_system:\n",
    "                    B.nodes[node_index]['category'] = 'system_nodes'\n",
    "                    B.nodes[node_index]['bipartite'] = 0\n",
    "                elif node_index < num_total:\n",
    "                    B.nodes[node_index]['category'] = 'ancilla_nodes'\n",
    "                    B.nodes[node_index]['bipartite'] = 0\n",
    "                else:\n",
    "                    B.nodes[node_index]['category'] = 'sculpting_nodes'\n",
    "                    B.nodes[node_index]['bipartite'] = 1\n",
    "\n",
    "            B = nx.relabel_nodes(B, mapping)\n",
    "\n",
    "            if all(len(list(B.neighbors(node))) >= 2 for node in B.nodes):\n",
    "                results.append(B)\n",
    "\n",
    "    return results  # 최종 결과 반환\n",
    "\n",
    "\n",
    "# NetworkX -> iGraph 변환\n",
    "def nx_to_igraph(nx_graph):\n",
    "    # 노드 매핑 (문자열 → 정수 변환)\n",
    "    node_map = {node: idx for idx, node in enumerate(nx_graph.nodes)}\n",
    "\n",
    "    # 엣지 및 가중치 추출\n",
    "    edges = []\n",
    "    weights = []\n",
    "    for u, v, data in nx_graph.edges(data=True):\n",
    "        edges.append((node_map[u], node_map[v]))  # 정수 인덱스로 변환된 엣지 추가\n",
    "        weights.append(data['weight'])  # 가중치 추가\n",
    "\n",
    "    # iGraph 객체 생성\n",
    "    ig_graph = ig.Graph()\n",
    "    ig_graph.add_vertices(len(node_map))  # 노드 추가\n",
    "    ig_graph.add_edges(edges)  # 엣지 추가\n",
    "    ig_graph.es['weight'] = weights  # 가중치 추가\n",
    "    return ig_graph\n",
    "\n",
    "\n",
    "# Canonical Form 생성\n",
    "def canonical_form_with_weights(ig_graph):\n",
    "    ig_graph.vs['color'] = [v['weight'] for v in ig_graph.es]  # 색상(label) 설정\n",
    "    perm = ig_graph.canonical_permutation(color=ig_graph.vs['color'])  # canonical permutation\n",
    "    permuted = ig_graph.permute_vertices(perm)  # 정렬 적용\n",
    "    return tuple(map(tuple, permuted.get_adjacency().data))  # Immutable 변환\n",
    "\n",
    "\n",
    "# 그래프 리스트 처리 및 중복 제거\n",
    "def process_and_deduplicate(graph_list):\n",
    "    canonical_set = set()  # 중복 제거를 위한 set\n",
    "    for graph in graph_list:\n",
    "        ig_graph = nx_to_igraph(graph)  # NetworkX → iGraph 변환\n",
    "        canonical_form = canonical_form_with_weights(ig_graph)  # Canonical Form 생성\n",
    "        canonical_set.add(canonical_form)  # 중복 제거\n",
    "    return canonical_set"
   ]
  },
  {
   "cell_type": "code",
   "execution_count": 56,
   "metadata": {},
   "outputs": [
    {
     "name": "stdout",
     "output_type": "stream",
     "text": [
      "Original graph count: 3264\n",
      "Unique graph count: 106\n"
     ]
    }
   ],
   "source": [
    "# EPM bipartite graph 생성\n",
    "graph_list = EPM_bipartite_graph_generator_old(num_system=3, num_ancilla=1, type=0)\n",
    "\n",
    "# 중복 제거된 canonical forms 추출\n",
    "unique_graphs = process_and_deduplicate(graph_list)\n",
    "\n",
    "# 결과 출력\n",
    "print(f\"Original graph count: {len(graph_list)}\")\n",
    "print(f\"Unique graph count: {len(unique_graphs)}\")\n"
   ]
  },
  {
   "cell_type": "code",
   "execution_count": 69,
   "metadata": {},
   "outputs": [
    {
     "name": "stdout",
     "output_type": "stream",
     "text": [
      "False\n"
     ]
    }
   ],
   "source": [
    "import igraph as ig\n",
    "\n",
    "# 그래프 정의\n",
    "G1 = ig.Graph([(0, 1), (1, 2), (2, 0), (2, 3)])   # 그래프 1\n",
    "G2 = ig.Graph([(0, 1), (1, 2)])  # 그래프 2\n",
    "\n",
    "# Canonical Form 생성 함수\n",
    "def canonical_form(graph):\n",
    "    # Canonical permutation 계산\n",
    "    perm = graph.canonical_permutation()\n",
    "    # Permutation 적용\n",
    "    permuted = graph.permute_vertices(perm)\n",
    "    # Adjacency matrix 반환\n",
    "    return tuple(map(tuple, permuted.get_adjacency().data))\n",
    "\n",
    "# Canonical Form 비교\n",
    "print(canonical_form(G1) == canonical_form(G2))  # True\n"
   ]
  },
  {
   "cell_type": "code",
   "execution_count": 70,
   "metadata": {},
   "outputs": [
    {
     "data": {
      "text/plain": [
       "[2, 1, 3, 0]"
      ]
     },
     "execution_count": 70,
     "metadata": {},
     "output_type": "execute_result"
    }
   ],
   "source": [
    "perm = G1.canonical_permutation()\n",
    "perm"
   ]
  },
  {
   "cell_type": "code",
   "execution_count": 71,
   "metadata": {},
   "outputs": [
    {
     "name": "stdout",
     "output_type": "stream",
     "text": [
      "IGRAPH U--- 4 4 --\n",
      "+ edges:\n",
      "1--2 1--3 2--3 0--3\n"
     ]
    }
   ],
   "source": [
    "permuted = G1.permute_vertices(perm)\n",
    "print(permuted)"
   ]
  },
  {
   "cell_type": "code",
   "execution_count": 72,
   "metadata": {},
   "outputs": [
    {
     "name": "stdout",
     "output_type": "stream",
     "text": [
      "[[0, 0, 0, 1], [0, 0, 1, 1], [0, 1, 0, 1], [1, 1, 1, 0]]\n"
     ]
    }
   ],
   "source": [
    "print(permuted.get_adjacency().data)"
   ]
  },
  {
   "cell_type": "code",
   "execution_count": 76,
   "metadata": {},
   "outputs": [
    {
     "name": "stdout",
     "output_type": "stream",
     "text": [
      "Canonical Labeling:\n",
      "[(1, 3, 2), (2, 4, 3)]\n"
     ]
    }
   ],
   "source": [
    "import networkx as nx\n",
    "from networkx.algorithms.isomorphism import GraphMatcher\n",
    "\n",
    "# 예제 가중치 이분 그래프\n",
    "G = nx.Graph()\n",
    "G.add_nodes_from([1, 2], bipartite=0)  # 첫 번째 파트\n",
    "G.add_nodes_from([3, 4], bipartite=1)  # 두 번째 파트\n",
    "G.add_edges_from([(1, 3, {'weight': 2}), (2, 4, {'weight': 3})])  # 가중치 추가\n",
    "\n",
    "# 정규 라벨링 함수\n",
    "def canonical_labeling(graph):\n",
    "    # 가중치 정보 반영\n",
    "    relabeled_graph = nx.Graph()\n",
    "    for u, v, data in graph.edges(data=True):\n",
    "        relabeled_graph.add_edge(min(u, v), max(u, v), label=data['weight'])\n",
    "    # 사전식 정렬 수행\n",
    "    edges = sorted((u, v, data['label']) for u, v, data in relabeled_graph.edges(data=True))\n",
    "    return edges\n",
    "\n",
    "# Canonical form 계산\n",
    "canonical_label = canonical_labeling(G)\n",
    "\n",
    "# 결과 출력\n",
    "print(\"Canonical Labeling:\")\n",
    "print(canonical_label)\n",
    "\n"
   ]
  },
  {
   "cell_type": "code",
   "execution_count": 74,
   "metadata": {},
   "outputs": [
    {
     "name": "stdout",
     "output_type": "stream",
     "text": [
      "Canonical Labeling:\n",
      "[(1, 3, 2), (2, 4, 3)]\n"
     ]
    }
   ],
   "source": [
    "import networkx as nx\n",
    "\n",
    "# 예제 가중치 이분 그래프\n",
    "G = nx.Graph()\n",
    "G.add_nodes_from([1, 2], bipartite=0)  # 첫 번째 파트\n",
    "G.add_nodes_from([3, 4], bipartite=1)  # 두 번째 파트\n",
    "G.add_edges_from([(1, 3, {'weight': 2}), (2, 4, {'weight': 3})])  # 가중치 추가\n",
    "\n",
    "# 튜플 변환 및 정규 라벨링\n",
    "def canonical_labeling(graph):\n",
    "    # 모든 간선 (u, v, w) 튜플 수집\n",
    "    edge_list = [(min(u, v), max(u, v), data['weight']) for u, v, data in graph.edges(data=True)]\n",
    "    # 사전식 정렬\n",
    "    edge_list = sorted(edge_list)\n",
    "    return edge_list\n",
    "\n",
    "canonical_label = canonical_labeling(G)\n",
    "\n",
    "# 결과 출력\n",
    "print(\"Canonical Labeling:\")\n",
    "print(canonical_label)\n"
   ]
  },
  {
   "cell_type": "code",
   "execution_count": 75,
   "metadata": {},
   "outputs": [
    {
     "name": "stdout",
     "output_type": "stream",
     "text": [
      "WL Features:\n",
      "[[1. 1.]\n",
      " [1. 1.]]\n"
     ]
    }
   ],
   "source": [
    "from grakel import Graph\n",
    "from grakel.kernels import WeisfeilerLehman\n",
    "import networkx as nx\n",
    "\n",
    "# 예제 가중치 이분 그래프\n",
    "G = nx.Graph()\n",
    "G.add_nodes_from([1, 2], bipartite=0)  # 첫 번째 파트\n",
    "G.add_nodes_from([3, 4], bipartite=1)  # 두 번째 파트\n",
    "G.add_edges_from([(1, 3, {'weight': 2}), (2, 4, {'weight': 3})])  # 가중치 추가\n",
    "\n",
    "# Grakel 그래프 변환\n",
    "def to_grakel_format(graph):\n",
    "    nodes = list(graph.nodes())\n",
    "    edges = [(u, v) for u, v in graph.edges()]\n",
    "    labels = {node: str(node) for node in nodes}  # 기본 라벨링\n",
    "    return Graph(edges, node_labels=labels)\n",
    "\n",
    "grakel_graph = to_grakel_format(G)\n",
    "\n",
    "# WL 커널 적용\n",
    "wl_kernel = WeisfeilerLehman(n_iter=2, normalize=True)\n",
    "features = wl_kernel.fit_transform([grakel_graph, grakel_graph])\n",
    "\n",
    "# 결과 출력\n",
    "print(\"WL Features:\")\n",
    "print(features)\n"
   ]
  },
  {
   "cell_type": "code",
   "execution_count": 77,
   "metadata": {},
   "outputs": [
    {
     "name": "stdout",
     "output_type": "stream",
     "text": [
      "Graph 1 Canonical Form: ((1, 2, 1), (1, 3, 3), (2, 3, 2))\n",
      "Graph 2 Canonical Form: ((10, 20, 1), (10, 30, 3), (20, 30, 2))\n",
      "Graph 3 Canonical Form: ((1, 2, 1), (2, 3, 3), (3, 4, 4))\n",
      "\n",
      "Isomorphic Pairs:\n"
     ]
    }
   ],
   "source": [
    "import networkx as nx\n",
    "from collections import defaultdict\n",
    "\n",
    "# 그래프 리스트 생성\n",
    "graphs = []\n",
    "\n",
    "# 그래프 1\n",
    "G1 = nx.Graph()\n",
    "G1.add_edges_from([(1, 2, {'weight': 1}), (2, 3, {'weight': 2}), (3, 1, {'weight': 3})])\n",
    "graphs.append(G1)\n",
    "\n",
    "# 그래프 2 (G1과 동형)\n",
    "G2 = nx.Graph()\n",
    "G2.add_edges_from([(10, 20, {'weight': 1}), (20, 30, {'weight': 2}), (30, 10, {'weight': 3})])\n",
    "graphs.append(G2)\n",
    "\n",
    "# 그래프 3 (G1과 비동형)\n",
    "G3 = nx.Graph()\n",
    "G3.add_edges_from([(1, 2, {'weight': 1}), (2, 3, {'weight': 3}), (3, 4, {'weight': 4})])\n",
    "graphs.append(G3)\n",
    "\n",
    "# 정규 라벨링 함수\n",
    "def canonical_labeling(graph):\n",
    "    # 간선 (u, v, weight) 튜플로 변환\n",
    "    edge_list = [(min(u, v), max(u, v), data['weight']) for u, v, data in graph.edges(data=True)]\n",
    "    # 사전식 정렬\n",
    "    edge_list = sorted(edge_list)\n",
    "    return tuple(edge_list)\n",
    "\n",
    "# 정규화 수행\n",
    "canonical_forms = []\n",
    "for idx, graph in enumerate(graphs):\n",
    "    canonical_form = canonical_labeling(graph)\n",
    "    canonical_forms.append(canonical_form)\n",
    "    print(f\"Graph {idx+1} Canonical Form: {canonical_form}\")\n",
    "\n",
    "# Isomorphic Test 수행\n",
    "def isomorphic_test(forms):\n",
    "    n = len(forms)\n",
    "    result = defaultdict(list)\n",
    "    for i in range(n):\n",
    "        for j in range(i + 1, n):\n",
    "            if forms[i] == forms[j]:\n",
    "                result[i + 1].append(j + 1)\n",
    "    return result\n",
    "\n",
    "# 결과 출력\n",
    "iso_test = isomorphic_test(canonical_forms)\n",
    "print(\"\\nIsomorphic Pairs:\")\n",
    "for key, values in iso_test.items():\n",
    "    print(f\"Graph {key} is isomorphic with Graph {values}\")\n"
   ]
  },
  {
   "cell_type": "code",
   "execution_count": 1,
   "metadata": {},
   "outputs": [
    {
     "ename": "ValueError",
     "evalue": "Mixing dicts with non-Series may lead to ambiguous ordering.",
     "output_type": "error",
     "traceback": [
      "\u001b[0;31m---------------------------------------------------------------------------\u001b[0m",
      "\u001b[0;31mValueError\u001b[0m                                Traceback (most recent call last)",
      "Cell \u001b[0;32mIn[1], line 87\u001b[0m\n\u001b[1;32m     78\u001b[0m \u001b[38;5;66;03m# 결과 정리 및 출력\u001b[39;00m\n\u001b[1;32m     79\u001b[0m results \u001b[38;5;241m=\u001b[39m {\n\u001b[1;32m     80\u001b[0m     \u001b[38;5;124m\"\u001b[39m\u001b[38;5;124mNauty Forms\u001b[39m\u001b[38;5;124m\"\u001b[39m: canonical_forms_nauty,\n\u001b[1;32m     81\u001b[0m     \u001b[38;5;124m\"\u001b[39m\u001b[38;5;124mTuple Forms\u001b[39m\u001b[38;5;124m\"\u001b[39m: canonical_forms_tuple,\n\u001b[0;32m   (...)\u001b[0m\n\u001b[1;32m     84\u001b[0m     \u001b[38;5;124m\"\u001b[39m\u001b[38;5;124mTuple Iso Test\u001b[39m\u001b[38;5;124m\"\u001b[39m: iso_test_tuple\n\u001b[1;32m     85\u001b[0m }\n\u001b[0;32m---> 87\u001b[0m result_df \u001b[38;5;241m=\u001b[39m \u001b[43mpd\u001b[49m\u001b[38;5;241;43m.\u001b[39;49m\u001b[43mDataFrame\u001b[49m\u001b[43m(\u001b[49m\u001b[43mresults\u001b[49m\u001b[43m)\u001b[49m\n\u001b[1;32m     88\u001b[0m result_df\n",
      "File \u001b[0;32m~/grakel_env/lib/python3.10/site-packages/pandas/core/frame.py:778\u001b[0m, in \u001b[0;36mDataFrame.__init__\u001b[0;34m(self, data, index, columns, dtype, copy)\u001b[0m\n\u001b[1;32m    772\u001b[0m     mgr \u001b[38;5;241m=\u001b[39m \u001b[38;5;28mself\u001b[39m\u001b[38;5;241m.\u001b[39m_init_mgr(\n\u001b[1;32m    773\u001b[0m         data, axes\u001b[38;5;241m=\u001b[39m{\u001b[38;5;124m\"\u001b[39m\u001b[38;5;124mindex\u001b[39m\u001b[38;5;124m\"\u001b[39m: index, \u001b[38;5;124m\"\u001b[39m\u001b[38;5;124mcolumns\u001b[39m\u001b[38;5;124m\"\u001b[39m: columns}, dtype\u001b[38;5;241m=\u001b[39mdtype, copy\u001b[38;5;241m=\u001b[39mcopy\n\u001b[1;32m    774\u001b[0m     )\n\u001b[1;32m    776\u001b[0m \u001b[38;5;28;01melif\u001b[39;00m \u001b[38;5;28misinstance\u001b[39m(data, \u001b[38;5;28mdict\u001b[39m):\n\u001b[1;32m    777\u001b[0m     \u001b[38;5;66;03m# GH#38939 de facto copy defaults to False only in non-dict cases\u001b[39;00m\n\u001b[0;32m--> 778\u001b[0m     mgr \u001b[38;5;241m=\u001b[39m \u001b[43mdict_to_mgr\u001b[49m\u001b[43m(\u001b[49m\u001b[43mdata\u001b[49m\u001b[43m,\u001b[49m\u001b[43m \u001b[49m\u001b[43mindex\u001b[49m\u001b[43m,\u001b[49m\u001b[43m \u001b[49m\u001b[43mcolumns\u001b[49m\u001b[43m,\u001b[49m\u001b[43m \u001b[49m\u001b[43mdtype\u001b[49m\u001b[38;5;241;43m=\u001b[39;49m\u001b[43mdtype\u001b[49m\u001b[43m,\u001b[49m\u001b[43m \u001b[49m\u001b[43mcopy\u001b[49m\u001b[38;5;241;43m=\u001b[39;49m\u001b[43mcopy\u001b[49m\u001b[43m,\u001b[49m\u001b[43m \u001b[49m\u001b[43mtyp\u001b[49m\u001b[38;5;241;43m=\u001b[39;49m\u001b[43mmanager\u001b[49m\u001b[43m)\u001b[49m\n\u001b[1;32m    779\u001b[0m \u001b[38;5;28;01melif\u001b[39;00m \u001b[38;5;28misinstance\u001b[39m(data, ma\u001b[38;5;241m.\u001b[39mMaskedArray):\n\u001b[1;32m    780\u001b[0m     \u001b[38;5;28;01mfrom\u001b[39;00m \u001b[38;5;21;01mnumpy\u001b[39;00m\u001b[38;5;21;01m.\u001b[39;00m\u001b[38;5;21;01mma\u001b[39;00m \u001b[38;5;28;01mimport\u001b[39;00m mrecords\n",
      "File \u001b[0;32m~/grakel_env/lib/python3.10/site-packages/pandas/core/internals/construction.py:503\u001b[0m, in \u001b[0;36mdict_to_mgr\u001b[0;34m(data, index, columns, dtype, typ, copy)\u001b[0m\n\u001b[1;32m    499\u001b[0m     \u001b[38;5;28;01melse\u001b[39;00m:\n\u001b[1;32m    500\u001b[0m         \u001b[38;5;66;03m# dtype check to exclude e.g. range objects, scalars\u001b[39;00m\n\u001b[1;32m    501\u001b[0m         arrays \u001b[38;5;241m=\u001b[39m [x\u001b[38;5;241m.\u001b[39mcopy() \u001b[38;5;28;01mif\u001b[39;00m \u001b[38;5;28mhasattr\u001b[39m(x, \u001b[38;5;124m\"\u001b[39m\u001b[38;5;124mdtype\u001b[39m\u001b[38;5;124m\"\u001b[39m) \u001b[38;5;28;01melse\u001b[39;00m x \u001b[38;5;28;01mfor\u001b[39;00m x \u001b[38;5;129;01min\u001b[39;00m arrays]\n\u001b[0;32m--> 503\u001b[0m \u001b[38;5;28;01mreturn\u001b[39;00m \u001b[43marrays_to_mgr\u001b[49m\u001b[43m(\u001b[49m\u001b[43marrays\u001b[49m\u001b[43m,\u001b[49m\u001b[43m \u001b[49m\u001b[43mcolumns\u001b[49m\u001b[43m,\u001b[49m\u001b[43m \u001b[49m\u001b[43mindex\u001b[49m\u001b[43m,\u001b[49m\u001b[43m \u001b[49m\u001b[43mdtype\u001b[49m\u001b[38;5;241;43m=\u001b[39;49m\u001b[43mdtype\u001b[49m\u001b[43m,\u001b[49m\u001b[43m \u001b[49m\u001b[43mtyp\u001b[49m\u001b[38;5;241;43m=\u001b[39;49m\u001b[43mtyp\u001b[49m\u001b[43m,\u001b[49m\u001b[43m \u001b[49m\u001b[43mconsolidate\u001b[49m\u001b[38;5;241;43m=\u001b[39;49m\u001b[43mcopy\u001b[49m\u001b[43m)\u001b[49m\n",
      "File \u001b[0;32m~/grakel_env/lib/python3.10/site-packages/pandas/core/internals/construction.py:114\u001b[0m, in \u001b[0;36marrays_to_mgr\u001b[0;34m(arrays, columns, index, dtype, verify_integrity, typ, consolidate)\u001b[0m\n\u001b[1;32m    111\u001b[0m \u001b[38;5;28;01mif\u001b[39;00m verify_integrity:\n\u001b[1;32m    112\u001b[0m     \u001b[38;5;66;03m# figure out the index, if necessary\u001b[39;00m\n\u001b[1;32m    113\u001b[0m     \u001b[38;5;28;01mif\u001b[39;00m index \u001b[38;5;129;01mis\u001b[39;00m \u001b[38;5;28;01mNone\u001b[39;00m:\n\u001b[0;32m--> 114\u001b[0m         index \u001b[38;5;241m=\u001b[39m \u001b[43m_extract_index\u001b[49m\u001b[43m(\u001b[49m\u001b[43marrays\u001b[49m\u001b[43m)\u001b[49m\n\u001b[1;32m    115\u001b[0m     \u001b[38;5;28;01melse\u001b[39;00m:\n\u001b[1;32m    116\u001b[0m         index \u001b[38;5;241m=\u001b[39m ensure_index(index)\n",
      "File \u001b[0;32m~/grakel_env/lib/python3.10/site-packages/pandas/core/internals/construction.py:680\u001b[0m, in \u001b[0;36m_extract_index\u001b[0;34m(data)\u001b[0m\n\u001b[1;32m    677\u001b[0m     \u001b[38;5;28;01mraise\u001b[39;00m \u001b[38;5;167;01mValueError\u001b[39;00m(\u001b[38;5;124m\"\u001b[39m\u001b[38;5;124mAll arrays must be of the same length\u001b[39m\u001b[38;5;124m\"\u001b[39m)\n\u001b[1;32m    679\u001b[0m \u001b[38;5;28;01mif\u001b[39;00m have_dicts:\n\u001b[0;32m--> 680\u001b[0m     \u001b[38;5;28;01mraise\u001b[39;00m \u001b[38;5;167;01mValueError\u001b[39;00m(\n\u001b[1;32m    681\u001b[0m         \u001b[38;5;124m\"\u001b[39m\u001b[38;5;124mMixing dicts with non-Series may lead to ambiguous ordering.\u001b[39m\u001b[38;5;124m\"\u001b[39m\n\u001b[1;32m    682\u001b[0m     )\n\u001b[1;32m    684\u001b[0m \u001b[38;5;28;01mif\u001b[39;00m have_series:\n\u001b[1;32m    685\u001b[0m     \u001b[38;5;28;01mif\u001b[39;00m lengths[\u001b[38;5;241m0\u001b[39m] \u001b[38;5;241m!=\u001b[39m \u001b[38;5;28mlen\u001b[39m(index):\n",
      "\u001b[0;31mValueError\u001b[0m: Mixing dicts with non-Series may lead to ambiguous ordering."
     ]
    }
   ],
   "source": [
    "# 1. Nauty/Traces 기반 (NetworkX + 정렬 기반)\n",
    "import networkx as nx\n",
    "from networkx.algorithms.isomorphism import GraphMatcher\n",
    "from collections import defaultdict\n",
    "\n",
    "# 그래프 리스트 생성\n",
    "graphs = []\n",
    "\n",
    "# 그래프 1\n",
    "G1 = nx.Graph()\n",
    "G1.add_edges_from([(1, 2, {'weight': 1}), (2, 3, {'weight': 2}), (3, 1, {'weight': 3})])\n",
    "graphs.append(G1)\n",
    "\n",
    "# 그래프 2 (G1과 동형)\n",
    "G2 = nx.Graph()\n",
    "G2.add_edges_from([(10, 20, {'weight': 1}), (20, 30, {'weight': 2}), (30, 10, {'weight': 3})])\n",
    "graphs.append(G2)\n",
    "\n",
    "# 그래프 3 (비동형)\n",
    "G3 = nx.Graph()\n",
    "G3.add_edges_from([(1, 2, {'weight': 1}), (2, 3, {'weight': 3}), (3, 4, {'weight': 4})])\n",
    "graphs.append(G3)\n",
    "\n",
    "# 정규 라벨링 (Nauty 방식)\n",
    "def canonical_labeling_nauty(graph):\n",
    "    # 가중치 포함 라벨링 처리\n",
    "    relabeled_graph = nx.Graph()\n",
    "    for u, v, data in graph.edges(data=True):\n",
    "        relabeled_graph.add_edge(min(u, v), max(u, v), label=data['weight'])\n",
    "    # 정규 라벨링: 사전식 정렬\n",
    "    edges = sorted((u, v, data['label']) for u, v, data in relabeled_graph.edges(data=True))\n",
    "    return tuple(edges)\n",
    "\n",
    "canonical_forms_nauty = [canonical_labeling_nauty(g) for g in graphs]\n",
    "\n",
    "# Isomorphic Test 수행\n",
    "def isomorphic_test(forms):\n",
    "    n = len(forms)\n",
    "    result = defaultdict(list)\n",
    "    for i in range(n):\n",
    "        for j in range(i + 1, n):\n",
    "            if forms[i] == forms[j]:\n",
    "                result[i + 1].append(j + 1)\n",
    "    return result\n",
    "\n",
    "iso_test_nauty = isomorphic_test(canonical_forms_nauty)\n",
    "\n",
    "\n",
    "# 2. 튜플 기반 사용자 정의 알고리즘\n",
    "def canonical_labeling_tuple(graph):\n",
    "    edge_list = [(min(u, v), max(u, v), data['weight']) for u, v, data in graph.edges(data=True)]\n",
    "    edge_list = sorted(edge_list)  # 사전식 정렬\n",
    "    return tuple(edge_list)\n",
    "\n",
    "canonical_forms_tuple = [canonical_labeling_tuple(g) for g in graphs]\n",
    "iso_test_tuple = isomorphic_test(canonical_forms_tuple)\n",
    "\n",
    "\n",
    "# 3. WL(Wiesfeiler-Lehman) Refinement 기반\n",
    "from grakel import Graph\n",
    "from grakel.kernels import WeisfeilerLehman\n",
    "\n",
    "# Grakel 형식 변환\n",
    "def to_grakel_format(graph):\n",
    "    nodes = list(graph.nodes())\n",
    "    edges = [(u, v) for u, v in graph.edges()]\n",
    "    labels = {node: str(node) for node in nodes}  # 기본 라벨링\n",
    "    return Graph(edges, node_labels=labels)\n",
    "\n",
    "grakel_graphs = [to_grakel_format(g) for g in graphs]\n",
    "\n",
    "# WL 커널 적용\n",
    "wl_kernel = WeisfeilerLehman(n_iter=2, normalize=True)\n",
    "features = wl_kernel.fit_transform(grakel_graphs)\n",
    "\n",
    "import pandas as pd\n",
    "\n",
    "# 결과 정리 및 출력\n",
    "results = {\n",
    "    \"Nauty Forms\": canonical_forms_nauty,\n",
    "    \"Tuple Forms\": canonical_forms_tuple,\n",
    "    \"WL Features\": features.tolist(),\n",
    "    \"Nauty Iso Test\": iso_test_nauty,\n",
    "    \"Tuple Iso Test\": iso_test_tuple\n",
    "}\n",
    "\n",
    "result_df = pd.DataFrame(results)\n",
    "result_df\n"
   ]
  },
  {
   "cell_type": "code",
   "execution_count": 4,
   "metadata": {},
   "outputs": [
    {
     "name": "stdout",
     "output_type": "stream",
     "text": [
      "Canonical and Isomorphic Tests:\n",
      "   Graph Index                              Nauty Forms  \\\n",
      "0            1        ((1, 2, 1), (1, 3, 3), (2, 3, 2))   \n",
      "1            2  ((10, 20, 1), (10, 30, 3), (20, 30, 2))   \n",
      "2            3        ((1, 2, 1), (2, 3, 3), (3, 4, 4))   \n",
      "\n",
      "                               Tuple Forms   WL Features  \n",
      "0        ((1, 2, 1), (1, 3, 3), (2, 3, 2))  Not Computed  \n",
      "1  ((10, 20, 1), (10, 30, 3), (20, 30, 2))  Not Computed  \n",
      "2        ((1, 2, 1), (2, 3, 3), (3, 4, 4))  Not Computed  \n",
      "\n",
      "Isomorphic Test Results:\n",
      "                    Nauty Iso Test                   Tuple Iso Test\n",
      "0  defaultdict(<class 'list'>, {})  defaultdict(<class 'list'>, {})\n"
     ]
    }
   ],
   "source": [
    "import networkx as nx\n",
    "from collections import defaultdict\n",
    "import pandas as pd\n",
    "\n",
    "# 그래프 리스트 생성\n",
    "graphs = []\n",
    "\n",
    "# 그래프 1\n",
    "G1 = nx.Graph()\n",
    "G1.add_edges_from([(1, 2, {'weight': 1}), (2, 3, {'weight': 2}), (3, 1, {'weight': 3})])\n",
    "graphs.append(G1)\n",
    "\n",
    "# 그래프 2 (G1과 동형)\n",
    "G2 = nx.Graph()\n",
    "G2.add_edges_from([(10, 20, {'weight': 1}), (20, 30, {'weight': 2}), (30, 10, {'weight': 3})])\n",
    "graphs.append(G2)\n",
    "\n",
    "# 그래프 3 (비동형)\n",
    "G3 = nx.Graph()\n",
    "G3.add_edges_from([(1, 2, {'weight': 1}), (2, 3, {'weight': 3}), (3, 4, {'weight': 4})])\n",
    "graphs.append(G3)\n",
    "\n",
    "# 1. Nauty 기반 정규 라벨링 함수\n",
    "def canonical_labeling_nauty(graph):\n",
    "    relabeled_graph = nx.Graph()\n",
    "    for u, v, data in graph.edges(data=True):\n",
    "        relabeled_graph.add_edge(min(u, v), max(u, v), label=data['weight'])\n",
    "    edges = sorted((u, v, data['label']) for u, v, data in relabeled_graph.edges(data=True))\n",
    "    return tuple(edges)\n",
    "\n",
    "canonical_forms_nauty = [canonical_labeling_nauty(g) for g in graphs]\n",
    "\n",
    "# 2. 튜플 기반 사용자 정의 라벨링 함수\n",
    "def canonical_labeling_tuple(graph):\n",
    "    edge_list = [(min(u, v), max(u, v), data['weight']) for u, v, data in graph.edges(data=True)]\n",
    "    edge_list = sorted(edge_list)\n",
    "    return tuple(edge_list)\n",
    "\n",
    "canonical_forms_tuple = [canonical_labeling_tuple(g) for g in graphs]\n",
    "\n",
    "# Isomorphic Test 수행 함수\n",
    "def isomorphic_test(forms):\n",
    "    n = len(forms)\n",
    "    result = defaultdict(list)\n",
    "    for i in range(n):\n",
    "        for j in range(i + 1, n):\n",
    "            if forms[i] == forms[j]:\n",
    "                result[i + 1].append(j + 1)\n",
    "    return result\n",
    "\n",
    "# Isomorphic 테스트 결과\n",
    "iso_test_nauty = isomorphic_test(canonical_forms_nauty)\n",
    "iso_test_tuple = isomorphic_test(canonical_forms_tuple)\n",
    "\n",
    "# 결과 정리 및 출력\n",
    "results = {\n",
    "    \"Graph Index\": [1, 2, 3],\n",
    "    \"Nauty Forms\": [str(form) for form in canonical_forms_nauty],\n",
    "    \"Tuple Forms\": [str(form) for form in canonical_forms_tuple],\n",
    "    \"WL Features\": [\"Not Computed\", \"Not Computed\", \"Not Computed\"],  # WL 기능은 별도 설치 필요\n",
    "}\n",
    "\n",
    "iso_test_results = {\n",
    "    \"Nauty Iso Test\": str(iso_test_nauty),\n",
    "    \"Tuple Iso Test\": str(iso_test_tuple)\n",
    "}\n",
    "\n",
    "result_df = pd.DataFrame(results)\n",
    "iso_test_df = pd.DataFrame([iso_test_results])\n",
    "\n",
    "# 결과 출력\n",
    "print(\"Canonical and Isomorphic Tests:\")\n",
    "print(result_df)\n",
    "\n",
    "print(\"\\nIsomorphic Test Results:\")\n",
    "print(iso_test_df)\n",
    "\n",
    "# # CSV 저장 (선택 사항)\n",
    "# result_df.to_csv(\"canonical_results.csv\", index=False)\n",
    "# iso_test_df.to_csv(\"isomorphic_tests.csv\", index=False)\n"
   ]
  },
  {
   "cell_type": "code",
   "execution_count": 5,
   "metadata": {},
   "outputs": [
    {
     "name": "stdout",
     "output_type": "stream",
     "text": [
      "Canonical and Isomorphic Tests:\n",
      "   Graph Index                        Nauty Forms  \\\n",
      "0            1  ((0, 1, 1), (0, 2, 3), (1, 2, 2))   \n",
      "1            2  ((0, 1, 1), (0, 2, 3), (1, 2, 2))   \n",
      "2            3  ((0, 1, 1), (1, 2, 3), (2, 3, 4))   \n",
      "\n",
      "                         Tuple Forms   WL Features  \n",
      "0  ((0, 1, 1), (0, 2, 3), (1, 2, 2))  Not Computed  \n",
      "1  ((0, 1, 1), (0, 2, 3), (1, 2, 2))  Not Computed  \n",
      "2  ((0, 1, 1), (1, 2, 3), (2, 3, 4))  Not Computed  \n",
      "\n",
      "Isomorphic Test Results:\n",
      "                          Nauty Iso Test  \\\n",
      "0  defaultdict(<class 'list'>, {1: [2]})   \n",
      "\n",
      "                          Tuple Iso Test  \n",
      "0  defaultdict(<class 'list'>, {1: [2]})  \n"
     ]
    }
   ],
   "source": [
    "import networkx as nx\n",
    "from collections import defaultdict\n",
    "import pandas as pd\n",
    "\n",
    "# 그래프 리스트 생성\n",
    "graphs = []\n",
    "\n",
    "# 그래프 1\n",
    "G1 = nx.Graph()\n",
    "G1.add_edges_from([(1, 2, {'weight': 1}), (2, 3, {'weight': 2}), (3, 1, {'weight': 3})])\n",
    "graphs.append(G1)\n",
    "\n",
    "# 그래프 2 (G1과 동형)\n",
    "G2 = nx.Graph()\n",
    "G2.add_edges_from([(10, 20, {'weight': 1}), (20, 30, {'weight': 2}), (30, 10, {'weight': 3})])\n",
    "graphs.append(G2)\n",
    "\n",
    "# 그래프 3 (비동형)\n",
    "G3 = nx.Graph()\n",
    "G3.add_edges_from([(1, 2, {'weight': 1}), (2, 3, {'weight': 3}), (3, 4, {'weight': 4})])\n",
    "graphs.append(G3)\n",
    "\n",
    "# 노드 재라벨링 함수\n",
    "def relabel_graph(graph):\n",
    "    mapping = {node: idx for idx, node in enumerate(sorted(graph.nodes()))}\n",
    "    return nx.relabel_nodes(graph, mapping)\n",
    "\n",
    "# 1. Nauty 기반 정규 라벨링 함수\n",
    "def canonical_labeling_nauty(graph):\n",
    "    relabeled_graph = relabel_graph(graph)\n",
    "    relabeled_edges = sorted((min(u, v), max(u, v), data['weight']) for u, v, data in relabeled_graph.edges(data=True))\n",
    "    return tuple(relabeled_edges)\n",
    "\n",
    "canonical_forms_nauty = [canonical_labeling_nauty(g) for g in graphs]\n",
    "\n",
    "# 2. 튜플 기반 사용자 정의 라벨링 함수\n",
    "def canonical_labeling_tuple(graph):\n",
    "    relabeled_graph = relabel_graph(graph)\n",
    "    edge_list = [(min(u, v), max(u, v), data['weight']) for u, v, data in relabeled_graph.edges(data=True)]\n",
    "    edge_list = sorted(edge_list)\n",
    "    return tuple(edge_list)\n",
    "\n",
    "canonical_forms_tuple = [canonical_labeling_tuple(g) for g in graphs]\n",
    "\n",
    "# Isomorphic Test 수행 함수\n",
    "def isomorphic_test(forms):\n",
    "    n = len(forms)\n",
    "    result = defaultdict(list)\n",
    "    for i in range(n):\n",
    "        for j in range(i + 1, n):\n",
    "            if forms[i] == forms[j]:\n",
    "                result[i + 1].append(j + 1)\n",
    "    return result\n",
    "\n",
    "# Isomorphic 테스트 결과\n",
    "iso_test_nauty = isomorphic_test(canonical_forms_nauty)\n",
    "iso_test_tuple = isomorphic_test(canonical_forms_tuple)\n",
    "\n",
    "# 결과 정리 및 출력\n",
    "results = {\n",
    "    \"Graph Index\": [1, 2, 3],\n",
    "    \"Nauty Forms\": [str(form) for form in canonical_forms_nauty],\n",
    "    \"Tuple Forms\": [str(form) for form in canonical_forms_tuple],\n",
    "    \"WL Features\": [\"Not Computed\", \"Not Computed\", \"Not Computed\"],  # WL 기능은 별도 설치 필요\n",
    "}\n",
    "\n",
    "iso_test_results = {\n",
    "    \"Nauty Iso Test\": str(iso_test_nauty),\n",
    "    \"Tuple Iso Test\": str(iso_test_tuple)\n",
    "}\n",
    "\n",
    "result_df = pd.DataFrame(results)\n",
    "iso_test_df = pd.DataFrame([iso_test_results])\n",
    "\n",
    "# 결과 출력\n",
    "print(\"Canonical and Isomorphic Tests:\")\n",
    "print(result_df)\n",
    "\n",
    "print(\"\\nIsomorphic Test Results:\")\n",
    "print(iso_test_df)\n",
    "\n",
    "# CSV 저장 (선택 사항)\n",
    "# result_df.to_csv(\"canonical_results.csv\", index=False)\n",
    "# iso_test_df.to_csv(\"isomorphic_tests.csv\", index=False)\n"
   ]
  },
  {
   "cell_type": "code",
   "execution_count": 6,
   "metadata": {},
   "outputs": [
    {
     "name": "stdout",
     "output_type": "stream",
     "text": [
      "Canonical and Isomorphic Tests:\n",
      "   Graph Index                        Nauty Forms  \\\n",
      "0            1  ((0, 1, 1), (0, 2, 3), (1, 2, 2))   \n",
      "1            2  ((0, 1, 1), (0, 2, 3), (1, 2, 2))   \n",
      "2            3  ((0, 1, 1), (1, 2, 3), (2, 3, 4))   \n",
      "\n",
      "                         Tuple Forms                         WL Features  \n",
      "0  ((0, 1, 1), (0, 2, 3), (1, 2, 2))  [1.         0.         0.38490018]  \n",
      "1  ((0, 1, 1), (0, 2, 3), (1, 2, 2))                          [0. 1. 0.]  \n",
      "2  ((0, 1, 1), (1, 2, 3), (2, 3, 4))  [0.38490018 0.         1.        ]  \n",
      "\n",
      "Isomorphic Test Results:\n",
      "                          Nauty Iso Test  \\\n",
      "0  defaultdict(<class 'list'>, {1: [2]})   \n",
      "\n",
      "                          Tuple Iso Test  \n",
      "0  defaultdict(<class 'list'>, {1: [2]})  \n"
     ]
    }
   ],
   "source": [
    "import networkx as nx\n",
    "from collections import defaultdict\n",
    "import pandas as pd\n",
    "from grakel import Graph\n",
    "from grakel.kernels import WeisfeilerLehman\n",
    "\n",
    "# 그래프 리스트 생성\n",
    "graphs = []\n",
    "\n",
    "# 그래프 1\n",
    "G1 = nx.Graph()\n",
    "G1.add_edges_from([(1, 2, {'weight': 1}), (2, 3, {'weight': 2}), (3, 1, {'weight': 3})])\n",
    "graphs.append(G1)\n",
    "\n",
    "# 그래프 2 (G1과 동형)\n",
    "G2 = nx.Graph()\n",
    "G2.add_edges_from([(10, 20, {'weight': 1}), (20, 30, {'weight': 2}), (30, 10, {'weight': 3})])\n",
    "graphs.append(G2)\n",
    "\n",
    "# 그래프 3 (비동형)\n",
    "G3 = nx.Graph()\n",
    "G3.add_edges_from([(1, 2, {'weight': 1}), (2, 3, {'weight': 3}), (3, 4, {'weight': 4})])\n",
    "graphs.append(G3)\n",
    "\n",
    "# 노드 재라벨링 함수\n",
    "def relabel_graph(graph):\n",
    "    mapping = {node: idx for idx, node in enumerate(sorted(graph.nodes()))}\n",
    "    return nx.relabel_nodes(graph, mapping)\n",
    "\n",
    "# 1. Nauty 기반 정규 라벨링 함수\n",
    "def canonical_labeling_nauty(graph):\n",
    "    relabeled_graph = relabel_graph(graph)\n",
    "    relabeled_edges = sorted((min(u, v), max(u, v), data['weight']) for u, v, data in relabeled_graph.edges(data=True))\n",
    "    return tuple(relabeled_edges)\n",
    "\n",
    "canonical_forms_nauty = [canonical_labeling_nauty(g) for g in graphs]\n",
    "\n",
    "# 2. 튜플 기반 사용자 정의 라벨링 함수\n",
    "def canonical_labeling_tuple(graph):\n",
    "    relabeled_graph = relabel_graph(graph)\n",
    "    edge_list = [(min(u, v), max(u, v), data['weight']) for u, v, data in relabeled_graph.edges(data=True)]\n",
    "    edge_list = sorted(edge_list)\n",
    "    return tuple(edge_list)\n",
    "\n",
    "canonical_forms_tuple = [canonical_labeling_tuple(g) for g in graphs]\n",
    "\n",
    "# 3. Weisfeiler-Lehman(WL) 커널 계산\n",
    "# Grakel 형식 변환 함수\n",
    "def to_grakel_format(graph):\n",
    "    nodes = list(graph.nodes())\n",
    "    edges = [(u, v) for u, v in graph.edges()]\n",
    "    labels = {node: str(node) for node in nodes}\n",
    "    return Graph(edges, node_labels=labels)\n",
    "\n",
    "wl_graphs = [to_grakel_format(g) for g in graphs]\n",
    "wl_kernel = WeisfeilerLehman(n_iter=2, normalize=True)\n",
    "wl_features = wl_kernel.fit_transform(wl_graphs)\n",
    "\n",
    "# Isomorphic Test 수행 함수\n",
    "def isomorphic_test(forms):\n",
    "    n = len(forms)\n",
    "    result = defaultdict(list)\n",
    "    for i in range(n):\n",
    "        for j in range(i + 1, n):\n",
    "            if forms[i] == forms[j]:\n",
    "                result[i + 1].append(j + 1)\n",
    "    return result\n",
    "\n",
    "# Isomorphic 테스트 결과\n",
    "iso_test_nauty = isomorphic_test(canonical_forms_nauty)\n",
    "iso_test_tuple = isomorphic_test(canonical_forms_tuple)\n",
    "\n",
    "# 결과 정리 및 출력\n",
    "results = {\n",
    "    \"Graph Index\": [1, 2, 3],\n",
    "    \"Nauty Forms\": [str(form) for form in canonical_forms_nauty],\n",
    "    \"Tuple Forms\": [str(form) for form in canonical_forms_tuple],\n",
    "    \"WL Features\": [str(feature) for feature in wl_features],\n",
    "}\n",
    "\n",
    "iso_test_results = {\n",
    "    \"Nauty Iso Test\": str(iso_test_nauty),\n",
    "    \"Tuple Iso Test\": str(iso_test_tuple)\n",
    "}\n",
    "\n",
    "result_df = pd.DataFrame(results)\n",
    "iso_test_df = pd.DataFrame([iso_test_results])\n",
    "\n",
    "# 결과 출력\n",
    "print(\"Canonical and Isomorphic Tests:\")\n",
    "print(result_df)\n",
    "\n",
    "print(\"\\nIsomorphic Test Results:\")\n",
    "print(iso_test_df)\n",
    "\n",
    "# # CSV 저장 (선택 사항)\n",
    "# result_df.to_csv(\"canonical_results.csv\", index=False)\n",
    "# iso_test_df.to_csv(\"isomorphic_tests.csv\", index=False)\n"
   ]
  },
  {
   "cell_type": "code",
   "execution_count": 7,
   "metadata": {},
   "outputs": [
    {
     "name": "stdout",
     "output_type": "stream",
     "text": [
      "Canonical and Isomorphic Tests:\n",
      "   Graph Index                                   Nauty Forms  \\\n",
      "0            1             ((0, 1, 1), (0, 2, 3), (1, 2, 2))   \n",
      "1            2             ((0, 1, 1), (0, 2, 3), (1, 2, 2))   \n",
      "2            3             ((0, 1, 1), (1, 2, 3), (2, 3, 4))   \n",
      "3            4  ((0, 1, 1), (0, 3, 4), (1, 2, 2), (2, 3, 3))   \n",
      "4            5             ((0, 1, 1), (1, 2, 2), (2, 3, 3))   \n",
      "\n",
      "                                    Tuple Forms  \\\n",
      "0             ((0, 1, 1), (0, 2, 3), (1, 2, 2))   \n",
      "1             ((0, 1, 1), (0, 2, 3), (1, 2, 2))   \n",
      "2             ((0, 1, 1), (1, 2, 3), (2, 3, 4))   \n",
      "3  ((0, 1, 1), (0, 3, 4), (1, 2, 2), (2, 3, 3))   \n",
      "4             ((0, 1, 1), (1, 2, 2), (2, 3, 3))   \n",
      "\n",
      "                                         WL Features  \n",
      "0  [1.         0.         0.38490018 0.38490018 0...  \n",
      "1                                   [0. 1. 0. 0. 0.]  \n",
      "2  [0.38490018 0.         1.         0.83333333 1...  \n",
      "3  [0.38490018 0.         0.83333333 1.         0...  \n",
      "4  [0.38490018 0.         1.         0.83333333 1...  \n",
      "\n",
      "Isomorphic Test Results:\n",
      "                          Nauty Iso Test  \\\n",
      "0  defaultdict(<class 'list'>, {1: [2]})   \n",
      "\n",
      "                          Tuple Iso Test  \n",
      "0  defaultdict(<class 'list'>, {1: [2]})  \n"
     ]
    }
   ],
   "source": [
    "import networkx as nx\n",
    "from collections import defaultdict\n",
    "import pandas as pd\n",
    "from grakel import Graph\n",
    "from grakel.kernels import WeisfeilerLehman\n",
    "\n",
    "# 그래프 리스트 생성\n",
    "graphs = []\n",
    "\n",
    "# 그래프 1~5 추가\n",
    "G1 = nx.Graph()\n",
    "G1.add_edges_from([(1, 2, {'weight': 1}), (2, 3, {'weight': 2}), (3, 1, {'weight': 3})])\n",
    "graphs.append(G1)\n",
    "\n",
    "G2 = nx.Graph()\n",
    "G2.add_edges_from([(10, 20, {'weight': 1}), (20, 30, {'weight': 2}), (30, 10, {'weight': 3})])\n",
    "graphs.append(G2)\n",
    "\n",
    "G3 = nx.Graph()\n",
    "G3.add_edges_from([(1, 2, {'weight': 1}), (2, 3, {'weight': 3}), (3, 4, {'weight': 4})])\n",
    "graphs.append(G3)\n",
    "\n",
    "G4 = nx.Graph()\n",
    "G4.add_edges_from([(1, 2, {'weight': 1}), (2, 3, {'weight': 2}), (3, 4, {'weight': 3}), (4, 1, {'weight': 4})])\n",
    "graphs.append(G4)\n",
    "\n",
    "G5 = nx.Graph()\n",
    "G5.add_edges_from([(1, 2, {'weight': 1}), (2, 3, {'weight': 2}), (3, 4, {'weight': 3})])\n",
    "graphs.append(G5)\n",
    "\n",
    "# 노드 재라벨링 함수\n",
    "def relabel_graph(graph):\n",
    "    mapping = {node: idx for idx, node in enumerate(sorted(graph.nodes()))}\n",
    "    return nx.relabel_nodes(graph, mapping)\n",
    "\n",
    "# 1. Nauty 기반 정규 라벨링 함수\n",
    "def canonical_labeling_nauty(graph):\n",
    "    relabeled_graph = relabel_graph(graph)\n",
    "    relabeled_edges = sorted((min(u, v), max(u, v), data['weight']) for u, v, data in relabeled_graph.edges(data=True))\n",
    "    return tuple(relabeled_edges)\n",
    "\n",
    "canonical_forms_nauty = [canonical_labeling_nauty(g) for g in graphs]\n",
    "\n",
    "# 2. 튜플 기반 사용자 정의 라벨링 함수\n",
    "def canonical_labeling_tuple(graph):\n",
    "    relabeled_graph = relabel_graph(graph)\n",
    "    edge_list = [(min(u, v), max(u, v), data['weight']) for u, v, data in relabeled_graph.edges(data=True)]\n",
    "    edge_list = sorted(edge_list)\n",
    "    return tuple(edge_list)\n",
    "\n",
    "canonical_forms_tuple = [canonical_labeling_tuple(g) for g in graphs]\n",
    "\n",
    "# 3. Weisfeiler-Lehman(WL) 커널 계산\n",
    "# Grakel 형식 변환 함수\n",
    "def to_grakel_format(graph):\n",
    "    nodes = list(graph.nodes())\n",
    "    edges = [(u, v) for u, v in graph.edges()]\n",
    "    labels = {node: str(node) for node in nodes}\n",
    "    return Graph(edges, node_labels=labels)\n",
    "\n",
    "wl_graphs = [to_grakel_format(g) for g in graphs]\n",
    "wl_kernel = WeisfeilerLehman(n_iter=2, normalize=True)\n",
    "wl_features = wl_kernel.fit_transform(wl_graphs)\n",
    "\n",
    "# Isomorphic Test 수행 함수\n",
    "def isomorphic_test(forms):\n",
    "    n = len(forms)\n",
    "    result = defaultdict(list)\n",
    "    for i in range(n):\n",
    "        for j in range(i + 1, n):\n",
    "            if forms[i] == forms[j]:\n",
    "                result[i + 1].append(j + 1)\n",
    "    return result\n",
    "\n",
    "# Isomorphic 테스트 결과\n",
    "iso_test_nauty = isomorphic_test(canonical_forms_nauty)\n",
    "iso_test_tuple = isomorphic_test(canonical_forms_tuple)\n",
    "\n",
    "# 결과 정리 및 출력\n",
    "results = {\n",
    "    \"Graph Index\": list(range(1, len(graphs) + 1)),\n",
    "    \"Nauty Forms\": [str(form) for form in canonical_forms_nauty],\n",
    "    \"Tuple Forms\": [str(form) for form in canonical_forms_tuple],\n",
    "    \"WL Features\": [str(feature) for feature in wl_features],\n",
    "}\n",
    "\n",
    "iso_test_results = {\n",
    "    \"Nauty Iso Test\": str(iso_test_nauty),\n",
    "    \"Tuple Iso Test\": str(iso_test_tuple)\n",
    "}\n",
    "\n",
    "result_df = pd.DataFrame(results)\n",
    "iso_test_df = pd.DataFrame([iso_test_results])\n",
    "\n",
    "# 결과 출력\n",
    "print(\"Canonical and Isomorphic Tests:\")\n",
    "print(result_df)\n",
    "\n",
    "print(\"\\nIsomorphic Test Results:\")\n",
    "print(iso_test_df)\n",
    "\n",
    "# # CSV 저장 (선택 사항)\n",
    "# result_df.to_csv(\"canonical_results.csv\", index=False)\n",
    "# iso_test_df.to_csv(\"isomorphic_tests.csv\", index=False)\n"
   ]
  },
  {
   "cell_type": "code",
   "execution_count": 8,
   "metadata": {},
   "outputs": [
    {
     "name": "stdout",
     "output_type": "stream",
     "text": [
      "Canonical and Isomorphic Tests:\n",
      "   Graph Index                                        Nauty Forms  \\\n",
      "0            1                  ((0, 1, 1), (0, 2, 3), (1, 2, 2))   \n",
      "1            2                  ((0, 1, 1), (0, 2, 3), (1, 2, 2))   \n",
      "2            3                  ((0, 1, 1), (1, 2, 3), (2, 3, 4))   \n",
      "3            4       ((0, 1, 1), (0, 3, 4), (1, 2, 2), (2, 3, 3))   \n",
      "4            5                  ((0, 1, 1), (1, 2, 2), (2, 3, 3))   \n",
      "5            6  ((0, 1, 1), (0, 4, 5), (1, 2, 2), (2, 3, 3), (...   \n",
      "6            7  ((0, 1, 1), (0, 5, 7), (1, 2, 2), (2, 3, 3), (...   \n",
      "7            8  ((0, 1, 3), (0, 6, 9), (1, 2, 4), (2, 3, 5), (...   \n",
      "\n",
      "                                         Tuple Forms  \n",
      "0                  ((0, 1, 1), (0, 2, 3), (1, 2, 2))  \n",
      "1                  ((0, 1, 1), (0, 2, 3), (1, 2, 2))  \n",
      "2                  ((0, 1, 1), (1, 2, 3), (2, 3, 4))  \n",
      "3       ((0, 1, 1), (0, 3, 4), (1, 2, 2), (2, 3, 3))  \n",
      "4                  ((0, 1, 1), (1, 2, 2), (2, 3, 3))  \n",
      "5  ((0, 1, 1), (0, 4, 5), (1, 2, 2), (2, 3, 3), (...  \n",
      "6  ((0, 1, 1), (0, 5, 7), (1, 2, 2), (2, 3, 3), (...  \n",
      "7  ((0, 1, 3), (0, 6, 9), (1, 2, 4), (2, 3, 5), (...  \n",
      "\n",
      "Isomorphic Test Results:\n",
      "                          Nauty Iso Test  \\\n",
      "0  defaultdict(<class 'list'>, {1: [2]})   \n",
      "\n",
      "                          Tuple Iso Test  \n",
      "0  defaultdict(<class 'list'>, {1: [2]})  \n"
     ]
    }
   ],
   "source": [
    "import networkx as nx\n",
    "from collections import defaultdict\n",
    "import pandas as pd\n",
    "\n",
    "# 그래프 리스트 생성\n",
    "graphs = []\n",
    "\n",
    "# 더 복잡하고 다양한 그래프 추가\n",
    "G1 = nx.Graph()\n",
    "G1.add_edges_from([(1, 2, {'weight': 1}), (2, 3, {'weight': 2}), (3, 1, {'weight': 3})])\n",
    "graphs.append(G1)\n",
    "\n",
    "G2 = nx.Graph()\n",
    "G2.add_edges_from([(10, 20, {'weight': 1}), (20, 30, {'weight': 2}), (30, 10, {'weight': 3})])\n",
    "graphs.append(G2)\n",
    "\n",
    "G3 = nx.Graph()\n",
    "G3.add_edges_from([(1, 2, {'weight': 1}), (2, 3, {'weight': 3}), (3, 4, {'weight': 4})])\n",
    "graphs.append(G3)\n",
    "\n",
    "G4 = nx.Graph()\n",
    "G4.add_edges_from([(1, 2, {'weight': 1}), (2, 3, {'weight': 2}), (3, 4, {'weight': 3}), (4, 1, {'weight': 4})])\n",
    "graphs.append(G4)\n",
    "\n",
    "G5 = nx.Graph()\n",
    "G5.add_edges_from([(1, 2, {'weight': 1}), (2, 3, {'weight': 2}), (3, 4, {'weight': 3})])\n",
    "graphs.append(G5)\n",
    "\n",
    "G6 = nx.Graph()\n",
    "G6.add_edges_from([(1, 2, {'weight': 1}), (2, 3, {'weight': 2}), (3, 4, {'weight': 3}), (4, 5, {'weight': 4}), (5, 1, {'weight': 5})])\n",
    "graphs.append(G6)\n",
    "\n",
    "G7 = nx.Graph()\n",
    "G7.add_edges_from([(1, 2, {'weight': 1}), (2, 3, {'weight': 2}), (3, 4, {'weight': 3}), (4, 5, {'weight': 5}), (5, 6, {'weight': 6}), (6, 1, {'weight': 7})])\n",
    "graphs.append(G7)\n",
    "\n",
    "G8 = nx.Graph()\n",
    "G8.add_edges_from([(1, 2, {'weight': 3}), (2, 3, {'weight': 4}), (3, 4, {'weight': 5}), (4, 5, {'weight': 6}), (5, 6, {'weight': 7}), (6, 7, {'weight': 8}), (7, 1, {'weight': 9})])\n",
    "graphs.append(G8)\n",
    "\n",
    "# 노드 재라벨링 함수\n",
    "def relabel_graph(graph):\n",
    "    mapping = {node: idx for idx, node in enumerate(sorted(graph.nodes()))}\n",
    "    return nx.relabel_nodes(graph, mapping)\n",
    "\n",
    "# 1. Nauty 기반 정규 라벨링 함수\n",
    "def canonical_labeling_nauty(graph):\n",
    "    relabeled_graph = relabel_graph(graph)\n",
    "    relabeled_edges = sorted((min(u, v), max(u, v), data['weight']) for u, v, data in relabeled_graph.edges(data=True))\n",
    "    return tuple(relabeled_edges)\n",
    "\n",
    "canonical_forms_nauty = [canonical_labeling_nauty(g) for g in graphs]\n",
    "\n",
    "# 2. 튜플 기반 사용자 정의 라벨링 함수\n",
    "def canonical_labeling_tuple(graph):\n",
    "    relabeled_graph = relabel_graph(graph)\n",
    "    edge_list = [(min(u, v), max(u, v), data['weight']) for u, v, data in relabeled_graph.edges(data=True)]\n",
    "    edge_list = sorted(edge_list)\n",
    "    return tuple(edge_list)\n",
    "\n",
    "canonical_forms_tuple = [canonical_labeling_tuple(g) for g in graphs]\n",
    "\n",
    "# Isomorphic Test 수행 함수\n",
    "def isomorphic_test(forms):\n",
    "    n = len(forms)\n",
    "    result = defaultdict(list)\n",
    "    for i in range(n):\n",
    "        for j in range(i + 1, n):\n",
    "            if forms[i] == forms[j]:\n",
    "                result[i + 1].append(j + 1)\n",
    "    return result\n",
    "\n",
    "# Isomorphic 테스트 결과\n",
    "iso_test_nauty = isomorphic_test(canonical_forms_nauty)\n",
    "iso_test_tuple = isomorphic_test(canonical_forms_tuple)\n",
    "\n",
    "# 결과 정리 및 출력\n",
    "results = {\n",
    "    \"Graph Index\": list(range(1, len(graphs) + 1)),\n",
    "    \"Nauty Forms\": [str(form) for form in canonical_forms_nauty],\n",
    "    \"Tuple Forms\": [str(form) for form in canonical_forms_tuple]\n",
    "}\n",
    "\n",
    "iso_test_results = {\n",
    "    \"Nauty Iso Test\": str(iso_test_nauty),\n",
    "    \"Tuple Iso Test\": str(iso_test_tuple)\n",
    "}\n",
    "\n",
    "result_df = pd.DataFrame(results)\n",
    "iso_test_df = pd.DataFrame([iso_test_results])\n",
    "\n",
    "# 결과 출력\n",
    "print(\"Canonical and Isomorphic Tests:\")\n",
    "print(result_df)\n",
    "\n",
    "print(\"\\nIsomorphic Test Results:\")\n",
    "print(iso_test_df)\n",
    "\n",
    "# # CSV 저장 (선택 사항)\n",
    "# result_df.to_csv(\"canonical_results.csv\", index=False)\n",
    "# iso_test_df.to_csv(\"isomorphic_tests.csv\", index=False)\n"
   ]
  },
  {
   "cell_type": "code",
   "execution_count": 9,
   "metadata": {},
   "outputs": [],
   "source": [
    "canonical_forms_nauty = [canonical_labeling_nauty(g) for g in graphs] \n",
    "\n",
    "canonical_forms_tuple = [canonical_labeling_tuple(g) for g in graphs]"
   ]
  },
  {
   "cell_type": "code",
   "execution_count": 10,
   "metadata": {},
   "outputs": [
    {
     "data": {
      "text/plain": [
       "[((0, 1, 1), (0, 2, 3), (1, 2, 2)),\n",
       " ((0, 1, 1), (0, 2, 3), (1, 2, 2)),\n",
       " ((0, 1, 1), (1, 2, 3), (2, 3, 4)),\n",
       " ((0, 1, 1), (0, 3, 4), (1, 2, 2), (2, 3, 3)),\n",
       " ((0, 1, 1), (1, 2, 2), (2, 3, 3)),\n",
       " ((0, 1, 1), (0, 4, 5), (1, 2, 2), (2, 3, 3), (3, 4, 4)),\n",
       " ((0, 1, 1), (0, 5, 7), (1, 2, 2), (2, 3, 3), (3, 4, 5), (4, 5, 6)),\n",
       " ((0, 1, 3), (0, 6, 9), (1, 2, 4), (2, 3, 5), (3, 4, 6), (4, 5, 7), (5, 6, 8))]"
      ]
     },
     "execution_count": 10,
     "metadata": {},
     "output_type": "execute_result"
    }
   ],
   "source": [
    "canonical_forms_nauty"
   ]
  },
  {
   "cell_type": "code",
   "execution_count": 11,
   "metadata": {},
   "outputs": [
    {
     "data": {
      "text/plain": [
       "[((0, 1, 1), (0, 2, 3), (1, 2, 2)),\n",
       " ((0, 1, 1), (0, 2, 3), (1, 2, 2)),\n",
       " ((0, 1, 1), (1, 2, 3), (2, 3, 4)),\n",
       " ((0, 1, 1), (0, 3, 4), (1, 2, 2), (2, 3, 3)),\n",
       " ((0, 1, 1), (1, 2, 2), (2, 3, 3)),\n",
       " ((0, 1, 1), (0, 4, 5), (1, 2, 2), (2, 3, 3), (3, 4, 4)),\n",
       " ((0, 1, 1), (0, 5, 7), (1, 2, 2), (2, 3, 3), (3, 4, 5), (4, 5, 6)),\n",
       " ((0, 1, 3), (0, 6, 9), (1, 2, 4), (2, 3, 5), (3, 4, 6), (4, 5, 7), (5, 6, 8))]"
      ]
     },
     "execution_count": 11,
     "metadata": {},
     "output_type": "execute_result"
    }
   ],
   "source": [
    "canonical_forms_tuple"
   ]
  },
  {
   "cell_type": "code",
   "execution_count": 12,
   "metadata": {},
   "outputs": [
    {
     "name": "stdout",
     "output_type": "stream",
     "text": [
      "Canonical Forms Comparison:\n",
      "   Graph Index                         Nauty Form  \\\n",
      "0            1  ((0, 1, 1), (0, 2, 3), (1, 2, 2))   \n",
      "1            2  ((0, 1, 1), (0, 2, 3), (1, 2, 2))   \n",
      "2            3  ((0, 1, 1), (1, 2, 3), (2, 3, 4))   \n",
      "\n",
      "                                         iGraph Form  \n",
      "0                  ((0, 1, 1), (1, 0, 1), (1, 1, 0))  \n",
      "1                  ((0, 1, 1), (1, 0, 1), (1, 1, 0))  \n",
      "2  ((0, 0, 1, 0), (0, 0, 0, 1), (1, 0, 0, 1), (0,...  \n"
     ]
    }
   ],
   "source": [
    "import networkx as nx\n",
    "from collections import defaultdict\n",
    "import pandas as pd\n",
    "from igraph import Graph\n",
    "\n",
    "# 그래프 리스트 생성 (간단한 예제)\n",
    "graphs = []\n",
    "\n",
    "# 그래프 1\n",
    "G1 = nx.Graph()\n",
    "G1.add_edges_from([(1, 2, {'weight': 1}), (2, 3, {'weight': 2}), (3, 1, {'weight': 3})])\n",
    "graphs.append(G1)\n",
    "\n",
    "# 그래프 2 (G1과 동형)\n",
    "G2 = nx.Graph()\n",
    "G2.add_edges_from([(10, 20, {'weight': 1}), (20, 30, {'weight': 2}), (30, 10, {'weight': 3})])\n",
    "graphs.append(G2)\n",
    "\n",
    "# 그래프 3 (비동형)\n",
    "G3 = nx.Graph()\n",
    "G3.add_edges_from([(1, 2, {'weight': 1}), (2, 3, {'weight': 3}), (3, 4, {'weight': 4})])\n",
    "graphs.append(G3)\n",
    "\n",
    "# 1. NetworkX 기반 Canonical Labeling (현재 코드)\n",
    "def relabel_graph(graph):\n",
    "    mapping = {node: idx for idx, node in enumerate(sorted(graph.nodes()))}\n",
    "    return nx.relabel_nodes(graph, mapping)\n",
    "\n",
    "def canonical_labeling_nauty(graph):\n",
    "    relabeled_graph = relabel_graph(graph)\n",
    "    relabeled_edges = sorted((min(u, v), max(u, v), data['weight']) for u, v, data in relabeled_graph.edges(data=True))\n",
    "    return tuple(relabeled_edges)\n",
    "\n",
    "canonical_forms_nauty = [canonical_labeling_nauty(g) for g in graphs]\n",
    "\n",
    "# 2. iGraph 기반 Canonical Labeling (제공된 코드)\n",
    "def canonical_form_with_weights(ig_graph):\n",
    "    ig_graph.vs['color'] = [e['weight'] for e in ig_graph.es]\n",
    "    perm = ig_graph.canonical_permutation(color=ig_graph.vs['color'])\n",
    "    permuted = ig_graph.permute_vertices(perm)\n",
    "    return tuple(map(tuple, permuted.get_adjacency().data))\n",
    "\n",
    "# iGraph로 변환 및 Canonical Form 생성\n",
    "def nx_to_igraph(nx_graph):\n",
    "    edges = list(nx_graph.edges(data='weight'))\n",
    "    ig_graph = Graph.TupleList([(u, v) for u, v, w in edges], directed=False)\n",
    "    ig_graph.es['weight'] = [w for u, v, w in edges]\n",
    "    return ig_graph\n",
    "\n",
    "igraph_graphs = [nx_to_igraph(g) for g in graphs]\n",
    "icanonical_forms = [canonical_form_with_weights(g) for g in igraph_graphs]\n",
    "\n",
    "# 결과 비교\n",
    "results = pd.DataFrame({\n",
    "    'Graph Index': [1, 2, 3],\n",
    "    'Nauty Form': [str(form) for form in canonical_forms_nauty],\n",
    "    'iGraph Form': [str(form) for form in icanonical_forms]\n",
    "})\n",
    "\n",
    "# 결과 출력\n",
    "print(\"Canonical Forms Comparison:\")\n",
    "print(results)"
   ]
  },
  {
   "cell_type": "code",
   "execution_count": 20,
   "metadata": {},
   "outputs": [
    {
     "name": "stdout",
     "output_type": "stream",
     "text": [
      "Canonical Forms:\n",
      "      Graph Index                                        Nauty Forms\n",
      "0               1  (('0', '5', 1.0), ('0', '6', 1.0), ('1', '5', ...\n",
      "1               2  (('0', '4', 3), ('0', '5', 1.0), ('0', '6', 1....\n",
      "2               3  (('0', '5', 1.0), ('0', '6', 1.0), ('1', '4', ...\n",
      "3               4  (('0', '4', 3), ('0', '5', 1.0), ('0', '6', 1....\n",
      "4               5  (('0', '5', 1.0), ('0', '6', 1.0), ('1', '5', ...\n",
      "...           ...                                                ...\n",
      "3259         3260  (('0', '4', 3), ('0', '7', 1.0), ('1', '4', 3)...\n",
      "3260         3261  (('0', '4', 3), ('0', '7', 2.0), ('1', '4', 3)...\n",
      "3261         3262  (('0', '4', 3), ('0', '7', 2.0), ('1', '4', 3)...\n",
      "3262         3263  (('0', '4', 3), ('0', '7', 2.0), ('1', '4', 3)...\n",
      "3263         3264  (('0', '4', 3), ('0', '7', 2.0), ('1', '4', 3)...\n",
      "\n",
      "[3264 rows x 2 columns]\n",
      "\n",
      "Isomorphic Groups:\n",
      "defaultdict(<class 'list'>, {})\n"
     ]
    }
   ],
   "source": [
    "import networkx as nx\n",
    "from collections import defaultdict\n",
    "import pandas as pd\n",
    "import itertools\n",
    "\n",
    "# EPM bipartite graph 생성 함수\n",
    "def EPM_bipartite_graph_generator_old(num_system, num_ancilla, type): \n",
    "    results = []  # 결과 저장 리스트\n",
    "    num_total = num_system + num_ancilla\n",
    "\n",
    "    # red-blue 조합 생성 (type=0 가정)\n",
    "    red_blue_combinations, num_combi = list_all_combinations_with_duplication(num_system, num_ancilla)\n",
    "\n",
    "    # ancilla 조합 생성\n",
    "    ancilla_combinations_pre = generate_combinations(num_total)\n",
    "    ancilla_combinations = list(itertools.product(ancilla_combinations_pre, repeat=num_ancilla))\n",
    "\n",
    "    for rb_comb in red_blue_combinations:\n",
    "        if num_ancilla != 0:\n",
    "            for bl_comb in ancilla_combinations:\n",
    "                B = nx.Graph()\n",
    "                B.add_nodes_from(range(2 * num_total))\n",
    "                mapping = {}\n",
    "\n",
    "                # red-blue 엣지 추가\n",
    "                for rb_index, vt in enumerate(rb_comb):\n",
    "                    red = num_total + vt[0]\n",
    "                    blue = num_total + vt[1]\n",
    "\n",
    "                    B.add_edge(rb_index, red, weight=1.0)\n",
    "                    B.add_edge(rb_index, blue, weight=2.0)\n",
    "\n",
    "                    mapping[rb_index] = 'S_' + str(rb_index)\n",
    "                    mapping[num_total + rb_index] = str(rb_index)\n",
    "\n",
    "                # ancilla 엣지 추가\n",
    "                for anc_index, vt_list in enumerate(bl_comb):\n",
    "                    for vt_inx in vt_list:\n",
    "                        B.add_edge(num_system + anc_index, num_total + vt_inx, weight=3) \n",
    "\n",
    "                    mapping[num_system + anc_index] = 'A_' + str(anc_index)\n",
    "                    mapping[num_total + num_system + anc_index] = str(num_system + anc_index)\n",
    "\n",
    "                # 노드 속성 추가\n",
    "                for node_index in range(2 * num_total):\n",
    "                    if node_index < num_system:\n",
    "                        B.nodes[node_index]['category'] = 'system_nodes'\n",
    "                        B.nodes[node_index]['bipartite'] = 0\n",
    "                    elif node_index < num_total:\n",
    "                        B.nodes[node_index]['category'] = 'ancilla_nodes'\n",
    "                        B.nodes[node_index]['bipartite'] = 0\n",
    "                    else:\n",
    "                        B.nodes[node_index]['category'] = 'sculpting_nodes'\n",
    "                        B.nodes[node_index]['bipartite'] = 1\n",
    "\n",
    "                B = nx.relabel_nodes(B, mapping)  # 노드 이름 변경\n",
    "\n",
    "                if all(len(list(B.neighbors(node))) >= 2 for node in B.nodes):\n",
    "                    results.append(B)\n",
    "        else:\n",
    "            B = nx.Graph()\n",
    "            B.add_nodes_from(range(2 * num_total))\n",
    "            mapping = {}\n",
    "\n",
    "            for rb_index, vt in enumerate(rb_comb):\n",
    "                red = num_total + vt[0]\n",
    "                blue = num_total + vt[1]\n",
    "\n",
    "                B.add_edge(rb_index, red, weight=1.0)\n",
    "                B.add_edge(rb_index, blue, weight=2.0)\n",
    "\n",
    "                mapping[rb_index] = 'S_' + str(rb_index)\n",
    "                mapping[num_total + rb_index] = str(rb_index)\n",
    "\n",
    "            for node_index in range(2 * num_total):\n",
    "                if node_index < num_system:\n",
    "                    B.nodes[node_index]['category'] = 'system_nodes'\n",
    "                    B.nodes[node_index]['bipartite'] = 0\n",
    "                elif node_index < num_total:\n",
    "                    B.nodes[node_index]['category'] = 'ancilla_nodes'\n",
    "                    B.nodes[node_index]['bipartite'] = 0\n",
    "                else:\n",
    "                    B.nodes[node_index]['category'] = 'sculpting_nodes'\n",
    "                    B.nodes[node_index]['bipartite'] = 1\n",
    "\n",
    "            B = nx.relabel_nodes(B, mapping)\n",
    "\n",
    "            if all(len(list(B.neighbors(node))) >= 2 for node in B.nodes):\n",
    "                results.append(B)\n",
    "\n",
    "    return results  # 최종 결과 반환\n",
    "\n",
    "# Nauty 기반 정규 라벨링 함수\n",
    "def relabel_graph(graph):\n",
    "    mapping = {node: str(idx) for idx, node in enumerate(sorted(graph.nodes(), key=str))}\n",
    "    return nx.relabel_nodes(graph, mapping)\n",
    "\n",
    "def canonical_labeling_nauty(graph):\n",
    "    relabeled_graph = relabel_graph(graph)\n",
    "    relabeled_edges = sorted((min(u, v), max(u, v), data['weight']) for u, v, data in relabeled_graph.edges(data=True))\n",
    "    return tuple(relabeled_edges)\n",
    "\n",
    "# 동형성 테스트 수행 함수\n",
    "def isomorphic_test(forms):\n",
    "    n = len(forms)\n",
    "    result = defaultdict(list)\n",
    "    for i in range(n):\n",
    "        for j in range(i + 1, n):\n",
    "            if forms[i] == forms[j]:\n",
    "                result[i + 1].append(j + 1)\n",
    "    return result\n",
    "\n",
    "# EPM 그래프 생성 및 처리\n",
    "num_system = 3\n",
    "num_ancilla = 1\n",
    "type = 0\n",
    "\n",
    "epm_graphs = EPM_bipartite_graph_generator_old(num_system, num_ancilla, type)\n",
    "\n",
    "# Nauty 기반 정규 라벨링 적용\n",
    "canonical_forms_nauty = [canonical_labeling_nauty(g) for g in epm_graphs]\n",
    "iso_test_nauty = isomorphic_test(canonical_forms_nauty)\n",
    "\n",
    "# 결과 정리 및 출력\n",
    "results = pd.DataFrame({\n",
    "    'Graph Index': list(range(1, len(epm_graphs) + 1)),\n",
    "    'Nauty Forms': [str(form) for form in canonical_forms_nauty]\n",
    "})\n",
    "\n",
    "print(\"Canonical Forms:\")\n",
    "print(results)\n",
    "\n",
    "print(\"\\nIsomorphic Groups:\")\n",
    "print(iso_test_nauty)\n",
    "\n",
    "# # CSV 저장 (선택 사항)\n",
    "# results.to_csv(\"canonical_results.csv\", index=False)\n"
   ]
  },
  {
   "cell_type": "code",
   "execution_count": 21,
   "metadata": {},
   "outputs": [
    {
     "data": {
      "text/plain": [
       "defaultdict(list, {})"
      ]
     },
     "execution_count": 21,
     "metadata": {},
     "output_type": "execute_result"
    }
   ],
   "source": [
    "iso_test_nauty"
   ]
  },
  {
   "cell_type": "code",
   "execution_count": 25,
   "metadata": {},
   "outputs": [
    {
     "ename": "TypeError",
     "evalue": "'<' not supported between instances of 'int' and 'str'",
     "output_type": "error",
     "traceback": [
      "\u001b[0;31m---------------------------------------------------------------------------\u001b[0m",
      "\u001b[0;31mTypeError\u001b[0m                                 Traceback (most recent call last)",
      "Cell \u001b[0;32mIn[25], line 95\u001b[0m\n\u001b[1;32m     92\u001b[0m epm_graphs \u001b[38;5;241m=\u001b[39m EPM_bipartite_graph_generator(num_system, num_ancilla, \u001b[38;5;28mtype\u001b[39m)\n\u001b[1;32m     94\u001b[0m \u001b[38;5;66;03m# Canonical Labeling 적용\u001b[39;00m\n\u001b[0;32m---> 95\u001b[0m canonical_forms_strict \u001b[38;5;241m=\u001b[39m [canonical_labeling_strict(g) \u001b[38;5;28;01mfor\u001b[39;00m g \u001b[38;5;129;01min\u001b[39;00m epm_graphs]\n\u001b[1;32m     96\u001b[0m iso_test_strict \u001b[38;5;241m=\u001b[39m isomorphic_strict(canonical_forms_strict)\n\u001b[1;32m     98\u001b[0m \u001b[38;5;66;03m# 결과 정리 및 출력\u001b[39;00m\n",
      "Cell \u001b[0;32mIn[25], line 95\u001b[0m, in \u001b[0;36m<listcomp>\u001b[0;34m(.0)\u001b[0m\n\u001b[1;32m     92\u001b[0m epm_graphs \u001b[38;5;241m=\u001b[39m EPM_bipartite_graph_generator(num_system, num_ancilla, \u001b[38;5;28mtype\u001b[39m)\n\u001b[1;32m     94\u001b[0m \u001b[38;5;66;03m# Canonical Labeling 적용\u001b[39;00m\n\u001b[0;32m---> 95\u001b[0m canonical_forms_strict \u001b[38;5;241m=\u001b[39m [\u001b[43mcanonical_labeling_strict\u001b[49m\u001b[43m(\u001b[49m\u001b[43mg\u001b[49m\u001b[43m)\u001b[49m \u001b[38;5;28;01mfor\u001b[39;00m g \u001b[38;5;129;01min\u001b[39;00m epm_graphs]\n\u001b[1;32m     96\u001b[0m iso_test_strict \u001b[38;5;241m=\u001b[39m isomorphic_strict(canonical_forms_strict)\n\u001b[1;32m     98\u001b[0m \u001b[38;5;66;03m# 결과 정리 및 출력\u001b[39;00m\n",
      "Cell \u001b[0;32mIn[25], line 27\u001b[0m, in \u001b[0;36mcanonical_labeling_strict\u001b[0;34m(graph)\u001b[0m\n\u001b[1;32m     24\u001b[0m \u001b[38;5;28;01mdef\u001b[39;00m \u001b[38;5;21mcanonical_labeling_strict\u001b[39m(graph):\n\u001b[1;32m     25\u001b[0m     \u001b[38;5;66;03m# 노드 재배열 및 정규화\u001b[39;00m\n\u001b[1;32m     26\u001b[0m     relabeled_graph \u001b[38;5;241m=\u001b[39m relabel_graph_fixed(graph)  \u001b[38;5;66;03m# 이미 문자열 변환 완료\u001b[39;00m\n\u001b[0;32m---> 27\u001b[0m     relabeled_edges \u001b[38;5;241m=\u001b[39m \u001b[38;5;28;43msorted\u001b[39;49m\u001b[43m(\u001b[49m\n\u001b[1;32m     28\u001b[0m \u001b[43m        \u001b[49m\u001b[43m(\u001b[49m\u001b[43mu\u001b[49m\u001b[43m,\u001b[49m\u001b[43m \u001b[49m\u001b[43mv\u001b[49m\u001b[43m,\u001b[49m\u001b[43m \u001b[49m\u001b[43mdata\u001b[49m\u001b[43m[\u001b[49m\u001b[38;5;124;43m'\u001b[39;49m\u001b[38;5;124;43mweight\u001b[39;49m\u001b[38;5;124;43m'\u001b[39;49m\u001b[43m]\u001b[49m\u001b[43m)\u001b[49m\u001b[43m  \u001b[49m\u001b[38;5;66;43;03m# 문자열 변환 제거\u001b[39;49;00m\n\u001b[1;32m     29\u001b[0m \u001b[43m        \u001b[49m\u001b[38;5;28;43;01mfor\u001b[39;49;00m\u001b[43m \u001b[49m\u001b[43mu\u001b[49m\u001b[43m,\u001b[49m\u001b[43m \u001b[49m\u001b[43mv\u001b[49m\u001b[43m,\u001b[49m\u001b[43m \u001b[49m\u001b[43mdata\u001b[49m\u001b[43m \u001b[49m\u001b[38;5;129;43;01min\u001b[39;49;00m\u001b[43m \u001b[49m\u001b[43mrelabeled_graph\u001b[49m\u001b[38;5;241;43m.\u001b[39;49m\u001b[43medges\u001b[49m\u001b[43m(\u001b[49m\u001b[43mdata\u001b[49m\u001b[38;5;241;43m=\u001b[39;49m\u001b[38;5;28;43;01mTrue\u001b[39;49;00m\u001b[43m)\u001b[49m\n\u001b[1;32m     30\u001b[0m \u001b[43m    \u001b[49m\u001b[43m)\u001b[49m\n\u001b[1;32m     31\u001b[0m     \u001b[38;5;28;01mreturn\u001b[39;00m \u001b[38;5;28mtuple\u001b[39m(relabeled_edges)\n",
      "\u001b[0;31mTypeError\u001b[0m: '<' not supported between instances of 'int' and 'str'"
     ]
    }
   ],
   "source": [
    "import networkx as nx\n",
    "from collections import defaultdict\n",
    "import pandas as pd\n",
    "import itertools\n",
    "\n",
    "# 조합 생성 함수\n",
    "def list_all_combinations_with_duplication(num_system, num_ancilla):\n",
    "    combinations = []\n",
    "    for comb in itertools.product(range(num_system), repeat=2):\n",
    "        combinations.append([comb])\n",
    "    return combinations, len(combinations)\n",
    "\n",
    "def generate_combinations(num_total):\n",
    "    return [[i, j] for i in range(num_total) for j in range(i + 1, num_total)]\n",
    "\n",
    "# 노드 재배열 함수\n",
    "def relabel_graph_fixed(graph):\n",
    "    # 문자열 변환으로 비교 오류 방지\n",
    "    sorted_nodes = sorted(graph.nodes(data=True), key=lambda x: (len(list(graph.neighbors(x[0]))), str(x[0])))\n",
    "    mapping = {str(node[0]): str(idx) for idx, node in enumerate(sorted_nodes)}  # 문자열 통일\n",
    "    return nx.relabel_nodes(graph, mapping)\n",
    "\n",
    "# Canonical Labeling 함수\n",
    "def canonical_labeling_strict(graph):\n",
    "    # 노드 재배열 및 정규화\n",
    "    relabeled_graph = relabel_graph_fixed(graph)  # 이미 문자열 변환 완료\n",
    "    relabeled_edges = sorted(\n",
    "        (u, v, data['weight'])  # 문자열 변환 제거\n",
    "        for u, v, data in relabeled_graph.edges(data=True)\n",
    "    )\n",
    "    return tuple(relabeled_edges)\n",
    "\n",
    "# 동형성 테스트 함수\n",
    "def isomorphic_strict(forms):\n",
    "    n = len(forms)\n",
    "    result = defaultdict(list)\n",
    "    for i in range(n):\n",
    "        for j in range(i + 1, n):\n",
    "            if forms[i] == forms[j]:\n",
    "                result[i + 1].append(j + 1)\n",
    "    return result\n",
    "\n",
    "# EPM bipartite graph 생성 함수\n",
    "def EPM_bipartite_graph_generator(num_system, num_ancilla, type): \n",
    "    results = []  \n",
    "    num_total = num_system + num_ancilla\n",
    "\n",
    "    # 조합 생성\n",
    "    red_blue_combinations, _ = list_all_combinations_with_duplication(num_system, num_ancilla)\n",
    "    ancilla_combinations_pre = generate_combinations(num_total)\n",
    "    ancilla_combinations = list(itertools.product(ancilla_combinations_pre, repeat=num_ancilla))\n",
    "\n",
    "    for rb_comb in red_blue_combinations:\n",
    "        for bl_comb in ancilla_combinations:\n",
    "            B = nx.Graph()\n",
    "            B.add_nodes_from(range(2 * num_total))\n",
    "            mapping = {}\n",
    "\n",
    "            # red-blue 엣지 추가\n",
    "            for rb_index, vt in enumerate(rb_comb):\n",
    "                red = num_total + vt[0]\n",
    "                blue = num_total + vt[1]\n",
    "\n",
    "                B.add_edge(rb_index, red, weight=1.0)\n",
    "                B.add_edge(rb_index, blue, weight=2.0)\n",
    "\n",
    "                mapping[rb_index] = 'S_' + str(rb_index)\n",
    "                mapping[num_total + rb_index] = str(rb_index)\n",
    "\n",
    "            # ancilla 엣지 추가\n",
    "            for anc_index, vt_list in enumerate(bl_comb):\n",
    "                for vt_inx in vt_list:\n",
    "                    B.add_edge(num_system + anc_index, num_total + vt_inx, weight=3)\n",
    "\n",
    "                mapping[num_system + anc_index] = 'A_' + str(anc_index)\n",
    "                mapping[num_total + num_system + anc_index] = str(num_system + anc_index)\n",
    "\n",
    "            # 노드 이름 변경\n",
    "            B = nx.relabel_nodes(B, mapping)\n",
    "\n",
    "            # 엣지가 존재하는 경우 추가\n",
    "            if len(B.edges()) > 0:\n",
    "                results.append(B)\n",
    "\n",
    "    return results\n",
    "\n",
    "# EPM 그래프 생성 및 처리\n",
    "num_system = 2\n",
    "num_ancilla = 1\n",
    "type = 0\n",
    "\n",
    "epm_graphs = EPM_bipartite_graph_generator(num_system, num_ancilla, type)\n",
    "\n",
    "# Canonical Labeling 적용\n",
    "canonical_forms_strict = [canonical_labeling_strict(g) for g in epm_graphs]\n",
    "iso_test_strict = isomorphic_strict(canonical_forms_strict)\n",
    "\n",
    "# 결과 정리 및 출력\n",
    "results = pd.DataFrame({\n",
    "    'Graph Index': list(range(1, len(epm_graphs) + 1)),\n",
    "    'Canonical Forms': [str(form) for form in canonical_forms_strict]\n",
    "})\n",
    "\n",
    "print(\"Canonical Forms:\")\n",
    "print(results)\n",
    "\n",
    "print(\"\\nIsomorphic Groups:\")\n",
    "print(iso_test_strict)\n",
    "\n",
    "# # CSV 저장 (선택 사항)\n",
    "# results.to_csv(\"canonical_results_strict.csv\", index=False)"
   ]
  },
  {
   "cell_type": "code",
   "execution_count": null,
   "metadata": {},
   "outputs": [],
   "source": []
  }
 ],
 "metadata": {
  "kernelspec": {
   "display_name": "grakel_env",
   "language": "python",
   "name": "python3"
  },
  "language_info": {
   "codemirror_mode": {
    "name": "ipython",
    "version": 3
   },
   "file_extension": ".py",
   "mimetype": "text/x-python",
   "name": "python",
   "nbconvert_exporter": "python",
   "pygments_lexer": "ipython3",
   "version": "3.10.12"
  }
 },
 "nbformat": 4,
 "nbformat_minor": 2
}
