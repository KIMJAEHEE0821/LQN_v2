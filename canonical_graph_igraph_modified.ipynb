{
 "cells": [
  {
   "cell_type": "code",
   "execution_count": null,
   "metadata": {},
   "outputs": [],
   "source": [
    "import networkx as nx\n",
    "import matplotlib.pyplot as plt\n",
    "import random\n",
    "from LQN_igraph import *\n",
    "import itertools\n",
    "from copy import deepcopy\n",
    "import sympy as sp\n",
    "from itertools import groupby"
   ]
  },
  {
   "cell_type": "code",
   "execution_count": 2,
   "metadata": {},
   "outputs": [],
   "source": [
    "import igraph as ig\n",
    "import hashlib"
   ]
  },
  {
   "cell_type": "code",
   "execution_count": 3,
   "metadata": {},
   "outputs": [],
   "source": [
    "def epm_process(num_system, num_ancilla):\n",
    "    graph_generator = EPM_bipartite_graph_generator_igraph(num_system, num_ancilla)\n",
    "    canonical_groups = process_and_group_by_canonical_form(graph_generator)\n",
    "    filtered_groups = filter_groups_by_scc_igraph(canonical_groups)\n",
    "    unique_bigraph = extract_unique_bigraphs_from_groups_igraph(filtered_groups)\n",
    "    return unique_bigraph"
   ]
  },
  {
   "cell_type": "code",
   "execution_count": 4,
   "metadata": {},
   "outputs": [],
   "source": [
    "num_system = 3\n",
    "num_ancilla = 1"
   ]
  },
  {
   "cell_type": "code",
   "execution_count": 5,
   "metadata": {},
   "outputs": [],
   "source": [
    "a = epm_process(num_system, num_ancilla)"
   ]
  },
  {
   "cell_type": "code",
   "execution_count": null,
   "metadata": {},
   "outputs": [],
   "source": []
  }
 ],
 "metadata": {
  "kernelspec": {
   "display_name": "lqn_mac",
   "language": "python",
   "name": "python3"
  },
  "language_info": {
   "codemirror_mode": {
    "name": "ipython",
    "version": 3
   },
   "file_extension": ".py",
   "mimetype": "text/x-python",
   "name": "python",
   "nbconvert_exporter": "python",
   "pygments_lexer": "ipython3",
   "version": "3.11.8"
  }
 },
 "nbformat": 4,
 "nbformat_minor": 2
}
