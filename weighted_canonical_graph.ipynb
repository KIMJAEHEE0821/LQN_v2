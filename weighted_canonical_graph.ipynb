{
 "cells": [
  {
   "cell_type": "code",
   "execution_count": 1,
   "metadata": {},
   "outputs": [],
   "source": [
    "import networkx as nx\n",
    "import matplotlib.pyplot as plt\n",
    "import random\n",
    "from LQN_utils_state_save_parallel import *\n",
    "import itertools\n",
    "from copy import deepcopy\n",
    "import sympy as sp\n",
    "from itertools import groupby"
   ]
  },
  {
   "cell_type": "code",
   "execution_count": 2,
   "metadata": {},
   "outputs": [],
   "source": [
    "def EPM_bipartite_graph_generator_igraph(num_system, num_ancilla, type):\n",
    "    \"\"\"\n",
    "    igraph를 사용한 EPM 이분 그래프 생성기\n",
    "    \n",
    "    Parameters:\n",
    "    -----------\n",
    "    num_system : int\n",
    "        시스템 노드 수\n",
    "    num_ancilla : int\n",
    "        앵커라 노드 수\n",
    "    type : int\n",
    "        그래프 유형\n",
    "        \n",
    "    Yields:\n",
    "    -------\n",
    "    igraph.Graph\n",
    "        생성된 이분 그래프\n",
    "    \"\"\"\n",
    "    import igraph as ig\n",
    "    import itertools\n",
    "    \n",
    "    num_total = num_system + num_ancilla\n",
    "    \n",
    "    # red-blue 조합 생성 (type=0 가정)\n",
    "    red_blue_combinations, num_combi = list_all_combinations_with_duplication(num_system, num_ancilla)\n",
    "    \n",
    "    # ancilla 조합 생성\n",
    "    if num_ancilla > 0:\n",
    "        ancilla_combinations_pre = generate_combinations(num_total)\n",
    "        ancilla_combinations = list(itertools.product(ancilla_combinations_pre, repeat=num_ancilla))\n",
    "    \n",
    "    for rb_comb in red_blue_combinations:\n",
    "        if num_ancilla > 0:\n",
    "            for bl_comb in ancilla_combinations:\n",
    "                # 노드 이름 생성\n",
    "                system_node_names = [f'S_{i}' for i in range(num_system)]\n",
    "                ancilla_node_names = [f'A_{i}' for i in range(num_ancilla)]\n",
    "                sculpting_node_names = [str(i) for i in range(num_total)]\n",
    "                \n",
    "                # 모든 노드 이름 리스트\n",
    "                all_node_names = system_node_names + ancilla_node_names + sculpting_node_names\n",
    "                \n",
    "                # igraph 그래프 생성\n",
    "                G = ig.Graph()\n",
    "                G.add_vertices(len(all_node_names))\n",
    "                \n",
    "                # 노드 이름 및 속성 설정\n",
    "                G.vs[\"name\"] = all_node_names\n",
    "                \n",
    "                # 노드 카테고리 설정\n",
    "                categories = [\"system_nodes\"] * num_system + [\"ancilla_nodes\"] * num_ancilla + [\"sculpting_nodes\"] * num_total\n",
    "                G.vs[\"category\"] = categories\n",
    "                \n",
    "                # 이분 그래프 타입 설정 (0: 왼쪽 파티션, 1: 오른쪽 파티션)\n",
    "                bipartite_types = [0] * (num_system + num_ancilla) + [1] * num_total\n",
    "                G.vs[\"bipartite\"] = bipartite_types\n",
    "                \n",
    "                # 엣지 생성을 위한 리스트\n",
    "                edges = []\n",
    "                edge_weights = []\n",
    "                \n",
    "                # red-blue 엣지 추가\n",
    "                for rb_index, vt in enumerate(rb_comb):\n",
    "                    red_idx = num_system + num_ancilla + vt[0]  # sculpting 노드 인덱스\n",
    "                    blue_idx = num_system + num_ancilla + vt[1]  # sculpting 노드 인덱스\n",
    "                    system_idx = rb_index  # system 노드 인덱스\n",
    "                    \n",
    "                    edges.append((system_idx, red_idx))\n",
    "                    edge_weights.append(1.0)\n",
    "                    \n",
    "                    edges.append((system_idx, blue_idx))\n",
    "                    edge_weights.append(2.0)\n",
    "                \n",
    "                # ancilla 엣지 추가\n",
    "                for anc_index, vt_list in enumerate(bl_comb):\n",
    "                    ancilla_idx = num_system + anc_index  # ancilla 노드 인덱스\n",
    "                    for vt_inx in vt_list:\n",
    "                        sculpting_idx = num_system + num_ancilla + vt_inx  # sculpting 노드 인덱스\n",
    "                        edges.append((ancilla_idx, sculpting_idx))\n",
    "                        edge_weights.append(3.0)\n",
    "                \n",
    "                # 그래프에 엣지 추가\n",
    "                G.add_edges(edges)\n",
    "                G.es[\"weight\"] = edge_weights\n",
    "                \n",
    "                # 각 노드가 최소 2개 이상의 이웃을 갖는지 확인\n",
    "                if all(G.degree(v) >= 2 for v in range(G.vcount())):\n",
    "                    yield G\n",
    "        else:  # num_ancilla == 0 인 경우\n",
    "            # 노드 이름 생성\n",
    "            system_node_names = [f'S_{i}' for i in range(num_system)]\n",
    "            sculpting_node_names = [str(i) for i in range(num_total)]\n",
    "            \n",
    "            # 모든 노드 이름 리스트\n",
    "            all_node_names = system_node_names + sculpting_node_names\n",
    "            \n",
    "            # igraph 그래프 생성\n",
    "            G = ig.Graph()\n",
    "            G.add_vertices(len(all_node_names))\n",
    "            \n",
    "            # 노드 이름 및 속성 설정\n",
    "            G.vs[\"name\"] = all_node_names\n",
    "            \n",
    "            # 노드 카테고리 설정\n",
    "            categories = [\"system_nodes\"] * num_system + [\"sculpting_nodes\"] * num_total\n",
    "            G.vs[\"category\"] = categories\n",
    "            \n",
    "            # 이분 그래프 타입 설정\n",
    "            bipartite_types = [0] * num_system + [1] * num_total\n",
    "            G.vs[\"bipartite\"] = bipartite_types\n",
    "            \n",
    "            # 엣지 생성을 위한 리스트\n",
    "            edges = []\n",
    "            edge_weights = []\n",
    "            \n",
    "            # red-blue 엣지 추가\n",
    "            for rb_index, vt in enumerate(rb_comb):\n",
    "                red_idx = num_system + vt[0]  # sculpting 노드 인덱스\n",
    "                blue_idx = num_system + vt[1]  # sculpting 노드 인덱스\n",
    "                system_idx = rb_index  # system 노드 인덱스\n",
    "                \n",
    "                edges.append((system_idx, red_idx))\n",
    "                edge_weights.append(1.0)\n",
    "                \n",
    "                edges.append((system_idx, blue_idx))\n",
    "                edge_weights.append(2.0)\n",
    "            \n",
    "            # 그래프에 엣지 추가\n",
    "            G.add_edges(edges)\n",
    "            G.es[\"weight\"] = edge_weights\n",
    "            \n",
    "            # 각 노드가 최소 2개 이상의 이웃을 갖는지 확인\n",
    "            if all(G.degree(v) >= 2 for v in range(G.vcount())):\n",
    "                yield G\n",
    "\n",
    "# igraph와 NetworkX 그래프 간 변환 유틸리티 함수\n",
    "def igraph_to_networkx(g_igraph):\n",
    "    \"\"\"igraph 그래프를 NetworkX 그래프로 변환\"\"\"\n",
    "    import networkx as nx\n",
    "    \n",
    "    G_nx = nx.Graph()\n",
    "    \n",
    "    # 노드 추가\n",
    "    for v in g_igraph.vs:\n",
    "        node_attrs = {attr: v[attr] for attr in v.attribute_names()}\n",
    "        G_nx.add_node(v[\"name\"], **node_attrs)\n",
    "    \n",
    "    # 엣지 추가\n",
    "    for e in g_igraph.es:\n",
    "        source = g_igraph.vs[e.source][\"name\"]\n",
    "        target = g_igraph.vs[e.target][\"name\"]\n",
    "        edge_attrs = {attr: e[attr] for attr in e.attribute_names()}\n",
    "        G_nx.add_edge(source, target, **edge_attrs)\n",
    "    \n",
    "    return G_nx\n",
    "\n",
    "def networkx_to_igraph(G_nx):\n",
    "    \"\"\"NetworkX 그래프를 igraph 그래프로 변환\"\"\"\n",
    "    import igraph as ig\n",
    "    \n",
    "    g_igraph = ig.Graph()\n",
    "    \n",
    "    # 노드 추가\n",
    "    node_names = list(G_nx.nodes())\n",
    "    g_igraph.add_vertices(len(node_names))\n",
    "    g_igraph.vs[\"name\"] = node_names\n",
    "    \n",
    "    # 노드 속성 추가\n",
    "    for attr in set().union(*(d.keys() for n, d in G_nx.nodes(data=True))):\n",
    "        if attr != \"name\":  # 이름은 이미 설정됨\n",
    "            g_igraph.vs[attr] = [G_nx.nodes[n].get(attr) for n in node_names]\n",
    "    \n",
    "    # 엣지 추가\n",
    "    edges = [(node_names.index(u), node_names.index(v)) for u, v in G_nx.edges()]\n",
    "    g_igraph.add_edges(edges)\n",
    "    \n",
    "    # 엣지 속성 추가\n",
    "    for attr in set().union(*(d.keys() for u, v, d in G_nx.edges(data=True))):\n",
    "        g_igraph.es[attr] = [G_nx.get_edge_data(u, v).get(attr) for u, v in G_nx.edges()]\n",
    "    \n",
    "    return g_igraph"
   ]
  },
  {
   "cell_type": "code",
   "execution_count": 12,
   "metadata": {},
   "outputs": [],
   "source": [
    "def weighted_bipartite_canonical_form(graph):\n",
    "    # 이분 그래프 파티션 정보 가져오기\n",
    "    bipartite_types = graph.vs[\"bipartite\"]\n",
    "    \n",
    "    # 가중치 정보 (1.0, 2.0, 3.0) 가져오기\n",
    "    weights = graph.es[\"weight\"]\n",
    "    \n",
    "    # 엣지 리스트 가져오기\n",
    "    edge_list = graph.get_edgelist()\n",
    "    \n",
    "    # 각 노드의 가중치 패턴 수집\n",
    "    node_weight_patterns = []\n",
    "    for v_idx in range(graph.vcount()):\n",
    "        pattern = []\n",
    "        for e_idx, (src, dst) in enumerate(edge_list):\n",
    "            if src == v_idx or dst == v_idx:\n",
    "                pattern.append(weights[e_idx])\n",
    "        # 정렬하여 일관된 패턴 생성\n",
    "        pattern.sort()\n",
    "        node_weight_patterns.append(tuple(pattern))\n",
    "    \n",
    "    # 가중치 패턴을 정수로 매핑\n",
    "    unique_patterns = list(set(node_weight_patterns))\n",
    "    pattern_to_int = {pattern: i+2 for i, pattern in enumerate(unique_patterns)}  # 2부터 시작\n",
    "    \n",
    "    # 최종 색상 계산 (파티션 타입 + 가중치 패턴)\n",
    "    colors = []\n",
    "    for v_idx in range(graph.vcount()):\n",
    "        # 기본 색상은 파티션 타입 (0 또는 1)\n",
    "        base_color = bipartite_types[v_idx]\n",
    "        # 가중치 패턴 색상 (2 이상의 정수)\n",
    "        pattern_color = pattern_to_int[node_weight_patterns[v_idx]]\n",
    "        # 파티션과 패턴을 조합 (파티션 * 1000 + 패턴)\n",
    "        # 이렇게 하면 다른 파티션의 노드는 항상 다른 색상을 가짐\n",
    "        combined_color = base_color * 1000 + pattern_color\n",
    "        colors.append(combined_color)\n",
    "    \n",
    "    # 정수 색상으로 canonical permutation 계산\n",
    "    perm = graph.canonical_permutation(color=colors)\n",
    "    \n",
    "    # 정렬 적용\n",
    "    permuted = graph.permute_vertices(perm)\n",
    "    \n",
    "    # Canonical form: 인접 행렬 + 가중치 패턴\n",
    "    adj_matrix = tuple(map(tuple, permuted.get_adjacency().data))\n",
    "    weight_pattern = tuple(permuted.es[\"weight\"])\n",
    "    \n",
    "    return (adj_matrix, weight_pattern)"
   ]
  },
  {
   "cell_type": "code",
   "execution_count": null,
   "metadata": {},
   "outputs": [],
   "source": [
    "# def remove_isomorphic_graphs(graph_list):\n",
    "#     unique_graphs = []\n",
    "#     canonical_forms = {}\n",
    "    \n",
    "#     for i, graph in enumerate(graph_list):\n",
    "#         # 가중치 고려한 canonical form 계산\n",
    "#         canonical_form = weighted_bipartite_canonical_form(graph)\n",
    "        \n",
    "#         # 이미 본 canonical form인지 확인\n",
    "#         if canonical_form not in canonical_forms:\n",
    "#             canonical_forms[canonical_form] = i\n",
    "#             unique_graphs.append(graph)\n",
    "    \n",
    "#     return unique_graphs\n",
    "\n",
    "def get_unique_graphs(graph_list):\n",
    "    unique_graphs = {}  # canonical_form -> graph 매핑\n",
    "    \n",
    "    for graph in graph_list:\n",
    "        # 가중치 고려한 canonical form 계산\n",
    "        canonical_form = weighted_bipartite_canonical_form(graph)\n",
    "        \n",
    "        # 해당 canonical form을 가진 그래프가 없으면 추가\n",
    "        if canonical_form not in unique_graphs:\n",
    "            unique_graphs[canonical_form] = graph\n",
    "    \n",
    "    # 유일한 그래프들만 반환\n",
    "    return list(unique_graphs.values())"
   ]
  },
  {
   "cell_type": "code",
   "execution_count": 14,
   "metadata": {},
   "outputs": [
    {
     "name": "stdout",
     "output_type": "stream",
     "text": [
      "생성된 총 그래프 수: 3264\n"
     ]
    }
   ],
   "source": [
    "# EPM 이분 그래프 생성\n",
    "all_graphs = list(EPM_bipartite_graph_generator_igraph(3, 1, 0))\n",
    "print(f\"생성된 총 그래프 수: {len(all_graphs)}\")"
   ]
  },
  {
   "cell_type": "code",
   "execution_count": 15,
   "metadata": {},
   "outputs": [
    {
     "name": "stdout",
     "output_type": "stream",
     "text": [
      "유일한 그래프 수: 27\n"
     ]
    }
   ],
   "source": [
    "# 동형 그래프 제거\n",
    "unique_graphs = remove_isomorphic_graphs(all_graphs)\n",
    "print(f\"유일한 그래프 수: {len(unique_graphs)}\")"
   ]
  },
  {
   "cell_type": "markdown",
   "metadata": {},
   "source": [
    "동일한 걸 혹시 변경된게 있을까봐 다시 작성한것"
   ]
  },
  {
   "cell_type": "code",
   "execution_count": 22,
   "metadata": {},
   "outputs": [
    {
     "name": "stdout",
     "output_type": "stream",
     "text": [
      "생성된 총 그래프 수: 3264\n",
      "유일한 그래프 수: 27\n"
     ]
    }
   ],
   "source": [
    "# 가중치를 고려한 canonical form 함수는 그대로 유지\n",
    "def weighted_bipartite_canonical_form(graph):\n",
    "    # 이분 그래프 파티션 정보 가져오기\n",
    "    bipartite_types = graph.vs[\"bipartite\"]\n",
    "    \n",
    "    # 가중치 정보 (1.0, 2.0, 3.0) 가져오기\n",
    "    weights = graph.es[\"weight\"]\n",
    "    \n",
    "    # 엣지 리스트 가져오기\n",
    "    edge_list = graph.get_edgelist()\n",
    "    \n",
    "    # 각 노드의 가중치 패턴 수집\n",
    "    node_weight_patterns = []\n",
    "    for v_idx in range(graph.vcount()):\n",
    "        pattern = []\n",
    "        for e_idx, (src, dst) in enumerate(edge_list):\n",
    "            if src == v_idx or dst == v_idx:\n",
    "                pattern.append(weights[e_idx])\n",
    "        # 정렬하여 일관된 패턴 생성\n",
    "        pattern.sort()\n",
    "        node_weight_patterns.append(tuple(pattern))\n",
    "    \n",
    "    # 가중치 패턴을 정수로 매핑\n",
    "    unique_patterns = list(set(node_weight_patterns))\n",
    "    pattern_to_int = {pattern: i+2 for i, pattern in enumerate(unique_patterns)}  # 2부터 시작\n",
    "    \n",
    "    # 최종 색상 계산 (파티션 타입 + 가중치 패턴)\n",
    "    colors = []\n",
    "    for v_idx in range(graph.vcount()):\n",
    "        # 기본 색상은 파티션 타입 (0 또는 1)\n",
    "        base_color = bipartite_types[v_idx]\n",
    "        # 가중치 패턴 색상 (2 이상의 정수)\n",
    "        pattern_color = pattern_to_int[node_weight_patterns[v_idx]]\n",
    "        # 파티션과 패턴을 조합 (파티션 * 1000 + 패턴)\n",
    "        combined_color = base_color * 1000 + pattern_color\n",
    "        colors.append(combined_color)\n",
    "    \n",
    "    # 정수 색상으로 canonical permutation 계산\n",
    "    perm = graph.canonical_permutation(color=colors)\n",
    "    \n",
    "    # 정렬 적용\n",
    "    permuted = graph.permute_vertices(perm)\n",
    "    \n",
    "    # Canonical form: 인접 행렬 + 가중치 패턴\n",
    "    adj_matrix = tuple(map(tuple, permuted.get_adjacency().data))\n",
    "    weight_pattern = tuple(permuted.es[\"weight\"])\n",
    "    \n",
    "    return (adj_matrix, weight_pattern)\n",
    "\n",
    "# 이 함수는 기존 remove_isomorphic_graphs 함수를 대체합니다\n",
    "def get_unique_graphs(graph_list):\n",
    "    unique_graphs = {}  # canonical_form -> graph 매핑\n",
    "    \n",
    "    for graph in graph_list:\n",
    "        # 가중치 고려한 canonical form 계산\n",
    "        canonical_form = weighted_bipartite_canonical_form(graph)\n",
    "        \n",
    "        # 해당 canonical form을 가진 그래프가 없으면 추가\n",
    "        if canonical_form not in unique_graphs:\n",
    "            unique_graphs[canonical_form] = graph\n",
    "    \n",
    "    # 유일한 그래프들만 반환\n",
    "    return list(unique_graphs.values())\n",
    "\n",
    "# 사용 예시:\n",
    "# EPM 이분 그래프 생성\n",
    "all_graphs = list(EPM_bipartite_graph_generator_igraph(3, 1, 0))\n",
    "print(f\"생성된 총 그래프 수: {len(all_graphs)}\")\n",
    "\n",
    "# 이 부분을 변경: remove_isomorphic_graphs 대신 get_unique_graphs 사용\n",
    "unique_graphs = get_unique_graphs(all_graphs)\n",
    "print(f\"유일한 그래프 수: {len(unique_graphs)}\")"
   ]
  },
  {
   "cell_type": "code",
   "execution_count": 37,
   "metadata": {},
   "outputs": [
    {
     "data": {
      "text/plain": [
       "3264"
      ]
     },
     "execution_count": 37,
     "metadata": {},
     "output_type": "execute_result"
    }
   ],
   "source": [
    "len(all_graphs)"
   ]
  },
  {
   "cell_type": "code",
   "execution_count": 28,
   "metadata": {},
   "outputs": [
    {
     "data": {
      "text/plain": [
       "(((0, 0, 0, 0, 1, 0, 1, 0),\n",
       "  (0, 0, 0, 0, 1, 0, 1, 0),\n",
       "  (0, 0, 0, 0, 0, 1, 0, 1),\n",
       "  (0, 0, 0, 0, 0, 1, 0, 1),\n",
       "  (1, 1, 0, 0, 0, 0, 0, 0),\n",
       "  (0, 0, 1, 1, 0, 0, 0, 0),\n",
       "  (1, 1, 0, 0, 0, 0, 0, 0),\n",
       "  (0, 0, 1, 1, 0, 0, 0, 0)),\n",
       " (1.0, 2.0, 1.0, 2.0, 1.0, 2.0, 3.0, 3.0))"
      ]
     },
     "execution_count": 28,
     "metadata": {},
     "output_type": "execute_result"
    }
   ],
   "source": [
    "weighted_bipartite_canonical_form(all_graphs[0])"
   ]
  },
  {
   "cell_type": "code",
   "execution_count": 29,
   "metadata": {},
   "outputs": [
    {
     "data": {
      "text/plain": [
       "(((0, 0, 0, 0, 1, 0, 1, 0),\n",
       "  (0, 0, 0, 0, 1, 0, 1, 0),\n",
       "  (0, 0, 0, 0, 0, 1, 0, 1),\n",
       "  (0, 0, 0, 0, 1, 1, 0, 1),\n",
       "  (1, 1, 0, 1, 0, 0, 0, 0),\n",
       "  (0, 0, 1, 1, 0, 0, 0, 0),\n",
       "  (1, 1, 0, 0, 0, 0, 0, 0),\n",
       "  (0, 0, 1, 1, 0, 0, 0, 0)),\n",
       " (1.0, 2.0, 1.0, 2.0, 1.0, 2.0, 3.0, 3.0, 3.0))"
      ]
     },
     "execution_count": 29,
     "metadata": {},
     "output_type": "execute_result"
    }
   ],
   "source": [
    "weighted_bipartite_canonical_form(all_graphs[1])"
   ]
  },
  {
   "cell_type": "code",
   "execution_count": 56,
   "metadata": {},
   "outputs": [
    {
     "data": {
      "text/plain": [
       "27"
      ]
     },
     "execution_count": 56,
     "metadata": {},
     "output_type": "execute_result"
    }
   ],
   "source": [
    "len(unique_graphs)"
   ]
  },
  {
   "cell_type": "code",
   "execution_count": 57,
   "metadata": {},
   "outputs": [
    {
     "data": {
      "text/plain": [
       "[<igraph.Graph at 0x14cf57650>,\n",
       " <igraph.Graph at 0x14cf57750>,\n",
       " <igraph.Graph at 0x14cff7350>,\n",
       " <igraph.Graph at 0x14cff6a50>,\n",
       " <igraph.Graph at 0x14cff6350>,\n",
       " <igraph.Graph at 0x14cff6550>,\n",
       " <igraph.Graph at 0x14cff6750>,\n",
       " <igraph.Graph at 0x14cff6250>,\n",
       " <igraph.Graph at 0x14cff6650>,\n",
       " <igraph.Graph at 0x14cff4750>,\n",
       " <igraph.Graph at 0x14cff7850>,\n",
       " <igraph.Graph at 0x14cff7b50>,\n",
       " <igraph.Graph at 0x14cff7a50>,\n",
       " <igraph.Graph at 0x14cff7c50>,\n",
       " <igraph.Graph at 0x14cff7d50>,\n",
       " <igraph.Graph at 0x14de0d850>,\n",
       " <igraph.Graph at 0x14de0d750>,\n",
       " <igraph.Graph at 0x14de0e450>,\n",
       " <igraph.Graph at 0x14de0e650>,\n",
       " <igraph.Graph at 0x14de0e750>,\n",
       " <igraph.Graph at 0x14de0e950>,\n",
       " <igraph.Graph at 0x14de0ed50>,\n",
       " <igraph.Graph at 0x14de0ef50>,\n",
       " <igraph.Graph at 0x14de0ee50>,\n",
       " <igraph.Graph at 0x14de25150>,\n",
       " <igraph.Graph at 0x14de26a50>,\n",
       " <igraph.Graph at 0x14de26c50>]"
      ]
     },
     "execution_count": 57,
     "metadata": {},
     "output_type": "execute_result"
    }
   ],
   "source": [
    "unique_graphs"
   ]
  },
  {
   "cell_type": "code",
   "execution_count": 58,
   "metadata": {},
   "outputs": [
    {
     "data": {
      "image/png": "[encoded data removed]",
      "text/plain": [
       "<Figure size 600x600 with 1 Axes>"
      ]
     },
     "metadata": {},
     "output_type": "display_data"
    }
   ],
   "source": [
    "Draw_EPM_bipartite_graph(igraph_to_networkx(unique_graphs[0]))"
   ]
  },
  {
   "cell_type": "code",
   "execution_count": 42,
   "metadata": {},
   "outputs": [
    {
     "data": {
      "image/png": "[encoded data removed]",
      "text/plain": [
       "<Figure size 600x600 with 1 Axes>"
      ]
     },
     "metadata": {},
     "output_type": "display_data"
    }
   ],
   "source": [
    "Draw_EPM_bipartite_graph(igraph_to_networkx(all_graphs[2]))"
   ]
  },
  {
   "cell_type": "code",
   "execution_count": 40,
   "metadata": {},
   "outputs": [
    {
     "data": {
      "image/png": "[encoded data removed]",
      "text/plain": [
       "<Figure size 600x600 with 1 Axes>"
      ]
     },
     "metadata": {},
     "output_type": "display_data"
    }
   ],
   "source": [
    "Draw_EPM_bipartite_graph(igraph_to_networkx(all_graphs[4]))"
   ]
  },
  {
   "cell_type": "code",
   "execution_count": 41,
   "metadata": {},
   "outputs": [
    {
     "data": {
      "image/png": "[encoded data removed]",
      "text/plain": [
       "<Figure size 600x600 with 1 Axes>"
      ]
     },
     "metadata": {},
     "output_type": "display_data"
    }
   ],
   "source": [
    "Draw_EPM_bipartite_graph(igraph_to_networkx(all_graphs[0]))"
   ]
  },
  {
   "cell_type": "code",
   "execution_count": null,
   "metadata": {},
   "outputs": [],
   "source": []
  }
 ],
 "metadata": {
  "kernelspec": {
   "display_name": "lqn_mac",
   "language": "python",
   "name": "python3"
  },
  "language_info": {
   "codemirror_mode": {
    "name": "ipython",
    "version": 3
   },
   "file_extension": ".py",
   "mimetype": "text/x-python",
   "name": "python",
   "nbconvert_exporter": "python",
   "pygments_lexer": "ipython3",
   "version": "3.11.8"
  }
 },
 "nbformat": 4,
 "nbformat_minor": 2
}
