{
 "cells": [
  {
   "cell_type": "code",
   "execution_count": 5,
   "metadata": {},
   "outputs": [],
   "source": [
    "import networkx as nx\n",
    "import matplotlib.pyplot as plt\n",
    "import random\n",
    "#from LQN_igraph import *\n",
    "import itertools\n",
    "from copy import deepcopy\n",
    "import sympy as sp\n",
    "from itertools import groupby\n",
    "import igraph as ig\n",
    "import hashlib\n",
    "import pickle\n",
    "import igraph as ig # .pkl 파일에 igraph 객체가 포함되어 있으므로 로드 시 필요합니다.\n",
    "import os\n",
    "from typing import Dict, List, Any # 타입 힌트를 위해 추가 (선택 사항)"
   ]
  },
  {
   "cell_type": "code",
   "execution_count": 6,
   "metadata": {},
   "outputs": [],
   "source": [
    "from graph_generation import EPM_bipartite_graph_generator_igraph\n",
    "from graph_analysis import (\n",
    "        process_and_group_by_canonical_form,\n",
    "        filter_groups_by_scc_igraph,\n",
    "        extract_unique_bigraphs_from_groups_igraph\n",
    "    )"
   ]
  },
  {
   "cell_type": "code",
   "execution_count": null,
   "metadata": {},
   "outputs": [
    {
     "name": "stdout",
     "output_type": "stream",
     "text": [
      "'/Users/jaeheekim/Desktop/SKKU_PHDS/code/canonical_graph/improved_code_using_gemini/results/bigraph_result_sys3_anc2_type0.pkl' 파일 로드를 시도합니다...\n",
      "파일 로드 완료!\n",
      "로드된 데이터 타입: <class 'dict'>\n",
      "데이터에 포함된 고유 구조 해시 키 개수: 78\n",
      "첫 번째 그룹(키: '23a09e933b...')에 포함된 고유 그래프 개수: 4\n",
      "첫 번째 그룹의 첫 번째 그래프 타입: <class 'igraph.Graph'>\n",
      "그래프 요약: IGRAPH UNW- 10 12 -- \n",
      "+ attr: bipartite (v), category (v), name (v), weight (e)\n"
     ]
    }
   ],
   "source": [
    "# --- 설정 ---\n",
    "# 결과 파일이 저장된 디렉토리 경로\n",
    "# main_script.py 실행 시 --output_dir 옵션을 사용했다면 해당 경로를, 아니면 기본값 'results'를 사용합니다.\n",
    "#output_dir = '/Users/jaeheekim/Desktop/SKKU_PHDS/code/canonical_graph/result_of_server/0414'\n",
    "output_dir = '/Users/jaeheekim/Desktop/SKKU_PHDS/code/canonical_graph/improved_code_using_gemini/results'\n",
    "\n",
    "\n",
    "# 로드할 파일의 파라미터 설정 (main_script.py 실행 시 사용했던 값)\n",
    "num_system = 3\n",
    "num_ancilla = 2\n",
    "graph_type = 0\n",
    "\n",
    "# 로드할 파일 경로 조합\n",
    "filename = f'bigraph_result_sys{num_system}_anc{num_ancilla}_type{graph_type}.pkl'\n",
    "file_path = os.path.join(output_dir, filename)\n",
    "\n",
    "# --- 파일 로드 ---\n",
    "loaded_data: Dict[str, List[Any]] = {} # 로드된 데이터를 저장할 변수\n",
    "\n",
    "print(f\"'{file_path}' 파일 로드를 시도합니다...\")\n",
    "\n",
    "try:\n",
    "    # 파일을 바이너리 읽기 모드('rb')로 엽니다.\n",
    "    with open(file_path, 'rb') as f:\n",
    "        # pickle.load() 함수를 사용하여 파일에서 데이터를 로드(역직렬화)합니다.\n",
    "        loaded_data = pickle.load(f)\n",
    "\n",
    "    print(\"파일 로드 완료!\")\n",
    "\n",
    "    # --- 로드된 데이터 확인 (선택 사항) ---\n",
    "    if loaded_data:\n",
    "        print(f\"로드된 데이터 타입: {type(loaded_data)}\")\n",
    "        num_keys = len(loaded_data)\n",
    "        print(f\"데이터에 포함된 고유 구조 해시 키 개수: {num_keys}\")\n",
    "\n",
    "        # 첫 번째 키와 해당 키에 포함된 고유 그래프 개수 확인\n",
    "        first_key = list(loaded_data.keys())[0]\n",
    "        num_graphs_in_first_group = len(loaded_data[first_key])\n",
    "        print(f\"첫 번째 그룹(키: '{first_key[:10]}...')에 포함된 고유 그래프 개수: {num_graphs_in_first_group}\")\n",
    "\n",
    "        # 첫 번째 그래프 정보 확인 (igraph 객체)\n",
    "        if num_graphs_in_first_group > 0:\n",
    "            first_graph = loaded_data[first_key][0]\n",
    "            print(f\"첫 번째 그룹의 첫 번째 그래프 타입: {type(first_graph)}\")\n",
    "            if isinstance(first_graph, ig.Graph):\n",
    "                print(f\"그래프 요약: {first_graph.summary()}\")\n",
    "\n",
    "    else:\n",
    "        print(\"로드된 데이터가 비어 있습니다.\")\n",
    "\n",
    "except FileNotFoundError:\n",
    "    print(f\"오류: 파일을 찾을 수 없습니다. 경로를 확인하세요: '{file_path}'\")\n",
    "except pickle.UnpicklingError:\n",
    "    print(f\"오류: 파일을 로드하는 중 pickle 오류가 발생했습니다. 파일이 손상되었거나 호환되지 않을 수 있습니다.\")\n",
    "except ImportError as e:\n",
    "    print(f\"오류: 데이터를 로드하는 데 필요한 클래스/모듈을 찾을 수 없습니다: {e}\")\n",
    "    print(\"특히 'igraph' 라이브러리가 현재 환경에 설치되어 있는지 확인하세요.\")\n",
    "except Exception as e:\n",
    "    print(f\"알 수 없는 오류 발생: {e}\")\n",
    "\n"
   ]
  },
  {
   "cell_type": "code",
   "execution_count": 2,
   "metadata": {},
   "outputs": [
    {
     "name": "stdout",
     "output_type": "stream",
     "text": [
      "655\n"
     ]
    }
   ],
   "source": [
    "total_elements = sum(len(v) for v in loaded_data.values())  # 모든 리스트 요소 개수 합산\n",
    "print(total_elements)  # 출력: 9"
   ]
  },
  {
   "cell_type": "code",
   "execution_count": 3,
   "metadata": {},
   "outputs": [
    {
     "ename": "NameError",
     "evalue": "name 'process_graph_dict' is not defined",
     "output_type": "error",
     "traceback": [
      "\u001b[0;31m---------------------------------------------------------------------------\u001b[0m",
      "\u001b[0;31mNameError\u001b[0m                                 Traceback (most recent call last)",
      "Cell \u001b[0;32mIn[3], line 2\u001b[0m\n\u001b[1;32m      1\u001b[0m \u001b[38;5;66;03m# graph_dict contains your dictionary of igraph objects\u001b[39;00m\n\u001b[0;32m----> 2\u001b[0m result_dict \u001b[38;5;241m=\u001b[39m \u001b[43mprocess_graph_dict\u001b[49m(loaded_data)\n\u001b[1;32m      4\u001b[0m \u001b[38;5;66;03m# Accessing results\u001b[39;00m\n\u001b[1;32m      5\u001b[0m \u001b[38;5;28;01mfor\u001b[39;00m hash_key, states \u001b[38;5;129;01min\u001b[39;00m result_dict\u001b[38;5;241m.\u001b[39mitems():\n",
      "\u001b[0;31mNameError\u001b[0m: name 'process_graph_dict' is not defined"
     ]
    }
   ],
   "source": [
    "# graph_dict contains your dictionary of igraph objects\n",
    "result_dict = process_graph_dict(loaded_data)\n",
    "\n",
    "# Accessing results\n",
    "for hash_key, states in result_dict.items():\n",
    "    print(f\"Hash: {hash_key}\")\n",
    "    for state in states:\n",
    "        counter, matchings, graph, index = state\n",
    "        print(f\"  State coefficients: {dict(counter)}\")"
   ]
  },
  {
   "cell_type": "code",
   "execution_count": null,
   "metadata": {},
   "outputs": [],
   "source": []
  },
  {
   "cell_type": "code",
   "execution_count": null,
   "metadata": {},
   "outputs": [],
   "source": []
  },
  {
   "cell_type": "code",
   "execution_count": null,
   "metadata": {},
   "outputs": [],
   "source": []
  },
  {
   "cell_type": "code",
   "execution_count": null,
   "metadata": {},
   "outputs": [],
   "source": []
  },
  {
   "cell_type": "code",
   "execution_count": null,
   "metadata": {},
   "outputs": [],
   "source": []
  }
 ],
 "metadata": {
  "kernelspec": {
   "display_name": "lqn_mac",
   "language": "python",
   "name": "python3"
  },
  "language_info": {
   "codemirror_mode": {
    "name": "ipython",
    "version": 3
   },
   "file_extension": ".py",
   "mimetype": "text/x-python",
   "name": "python",
   "nbconvert_exporter": "python",
   "pygments_lexer": "ipython3",
   "version": "3.11.8"
  }
 },
 "nbformat": 4,
 "nbformat_minor": 2
}
